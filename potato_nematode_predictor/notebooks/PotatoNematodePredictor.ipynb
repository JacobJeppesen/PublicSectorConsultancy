{
 "cells": [
  {
   "cell_type": "markdown",
   "metadata": {},
   "source": [
    "# Potato Nematode Predictor\n",
    "This work contains the public sector consultancy work on a potato nematode predictor carried out by Aarhus University.\n",
    "\n",
    "Start by configuring the notebook:"
   ]
  },
  {
   "cell_type": "code",
   "execution_count": 278,
   "metadata": {},
   "outputs": [
    {
     "name": "stdout",
     "output_type": "stream",
     "text": [
      "The autotime extension is already loaded. To reload it, use:\n",
      "  %reload_ext autotime\n",
      "The autoreload extension is already loaded. To reload it, use:\n",
      "  %reload_ext autoreload\n",
      "time: 24.5 ms\n"
     ]
    }
   ],
   "source": [
    "import wget\n",
    "import geopandas\n",
    "import os\n",
    "import rasterio\n",
    "import sys\n",
    "import pandas as pd\n",
    "import matplotlib.pyplot as plt\n",
    "\n",
    "from pathlib import Path\n",
    "from zipfile import ZipFile\n",
    "from tqdm.autonotebook import tqdm\n",
    "\n",
    "from utils import RasterstatsMultiProc\n",
    "\n",
    "# Automatically prints execution time for the individual cells\n",
    "%load_ext autotime\n",
    "\n",
    "# Automatically reloads functions defined in external files\n",
    "%load_ext autoreload\n",
    "%autoreload 2\n",
    "\n",
    "# The path to the project (so absoute file paths can be used throughout the notebook)\n",
    "PROJ_PATH = Path.cwd().parent\n",
    "\n",
    "# Define which field polygons should be used for analysis (2017 to 2019 seem to follow the same metadata format)\n",
    "FIELD_POLYGONS = ['FieldPolygons2017', 'FieldPolygons2018', 'FieldPolygons2019']\n",
    "\n",
    "# Define global flags\n",
    "MULTI_PROC_ZONAL_STATS = False\n",
    "ALL_TOUCHED = False"
   ]
  },
  {
   "cell_type": "markdown",
   "metadata": {},
   "source": [
    "---\n",
    "Download the field polygons from The Danish Agricultural Agency:"
   ]
  },
  {
   "cell_type": "code",
   "execution_count": 2,
   "metadata": {},
   "outputs": [
    {
     "name": "stdout",
     "output_type": "stream",
     "text": [
      "File already exists: /home/jovyan/work/data/external/FieldPolygons2016.zip\n",
      "File already exists: /home/jovyan/work/data/external/FieldPolygons2017.zip\n",
      "File already exists: /home/jovyan/work/data/external/FieldPolygons2018.zip\n",
      "File already exists: /home/jovyan/work/data/external/FieldPolygons2019.zip\n",
      "time: 23.3 ms\n"
     ]
    }
   ],
   "source": [
    "# Downloaded files will go into the 'data/external' folder\n",
    "dest_folder = PROJ_PATH / 'data' / 'external'\n",
    "if not dest_folder.exists():\n",
    "    os.makedirs(dest_folder)\n",
    "    \n",
    "# Define the download links for the field polygons for the individual years\n",
    "file_url_mapping = {\n",
    "    'FieldPolygons2016.zip': 'https://kortdata.fvm.dk/download/DownloadStream?id=3037da0f2744a85adc8b08ca5c31c3cb',\n",
    "    'FieldPolygons2017.zip': 'https://kortdata.fvm.dk/download/DownloadStream?id=d0c8946763e465bf9f6160a6bc40531f',\n",
    "    'FieldPolygons2018.zip': 'https://kortdata.fvm.dk/download/DownloadStream?id=cfb1b47130b7276f8515fbaae60bde2a',\n",
    "    'FieldPolygons2019.zip': 'https://kortdata.fvm.dk/download/DownloadStream?id=3d19613ac986ed05a7c301319738e332'\n",
    "}\n",
    "\n",
    "# Download the zipfiles\n",
    "for filename, url in file_url_mapping.items():\n",
    "    dest_path = PROJ_PATH / 'data' / 'external' / filename\n",
    "    if not dest_path.exists():\n",
    "        wget.download(url, str(dest_path))\n",
    "        print(\"File has been downloaded: \" + filename)\n",
    "    else:\n",
    "        print(\"File already exists: \" + str(PROJ_PATH / 'data' / 'external' / filename))"
   ]
  },
  {
   "cell_type": "markdown",
   "metadata": {},
   "source": [
    "---\n",
    "Then extract the zipfiles:"
   ]
  },
  {
   "cell_type": "code",
   "execution_count": 3,
   "metadata": {},
   "outputs": [
    {
     "name": "stdout",
     "output_type": "stream",
     "text": [
      "Zipfile has already been extracted: /home/jovyan/work/data/external/FieldPolygons2019.zip\n",
      "Zipfile has already been extracted: /home/jovyan/work/data/external/FieldPolygons2016.zip\n",
      "Zipfile has already been extracted: /home/jovyan/work/data/external/FieldPolygons2017.zip\n",
      "Zipfile has already been extracted: /home/jovyan/work/data/external/FieldPolygons2018.zip\n",
      "time: 25.9 ms\n"
     ]
    }
   ],
   "source": [
    "# The extracted zipfiles will go into the 'data/raw' folder\n",
    "for zipfile in (PROJ_PATH / 'data' / 'external').glob('**/*.zip'):\n",
    "    dest_folder = PROJ_PATH / 'data' / 'raw' / zipfile.stem   \n",
    "    if not dest_folder.exists():\n",
    "        with ZipFile(str(zipfile), 'r') as zipObj:\n",
    "            zipObj.extractall(str(dest_folder))\n",
    "        print(\"Zipfile has been extracted: \" + str(zipfile))\n",
    "    else:\n",
    "        print(\"Zipfile has already been extracted: \" + str(zipfile))"
   ]
  },
  {
   "cell_type": "markdown",
   "metadata": {},
   "source": [
    "---\n",
    "Now load the shapefiles into geopandas dataframes:"
   ]
  },
  {
   "cell_type": "code",
   "execution_count": 192,
   "metadata": {},
   "outputs": [
    {
     "name": "stdout",
     "output_type": "stream",
     "text": [
      "time: 1min 29s\n"
     ]
    }
   ],
   "source": [
    "def load_shp(shp_name):\n",
    "    # Load shapefile into dataframe and remove NaN rows\n",
    "    shp_file_path = list((PROJ_PATH / 'data' / 'raw' / shp_name).glob('**/*.shp'))[0]\n",
    "    df = geopandas.read_file(str(shp_file_path))\n",
    "    df = df.dropna()\n",
    "    \n",
    "    # Change all column names to be lower-case to make the naming consistent across years (https://stackoverflow.com/a/36362607/12045808)\n",
    "    df.columns = map(str.lower, df.columns)\n",
    "    \n",
    "    return df\n",
    "\n",
    "# Load the dataframes into a dict, with each year as a key\n",
    "df_all = {}\n",
    "for df_name in FIELD_POLYGONS:\n",
    "    df = load_shp(df_name)\n",
    "    df_all[df_name] = df"
   ]
  },
  {
   "cell_type": "markdown",
   "metadata": {},
   "source": [
    "---\n",
    "Find the potato fields and count the number of unique sorts:"
   ]
  },
  {
   "cell_type": "code",
   "execution_count": 211,
   "metadata": {},
   "outputs": [
    {
     "name": "stdout",
     "output_type": "stream",
     "text": [
      "### Analyzing FieldPolygons2017 ###\n",
      "There are 618 fields (total area = 4773 ha) of type: Kartofler, andre\n",
      "There are 88 fields (total area = 586 ha) of type: Kartofler, lægge- (certificerede)\n",
      "There are 1089 fields (total area = 6626 ha) of type: Kartofler, lægge- (egen opformering)\n",
      "There are 2597 fields (total area = 9223 ha) of type: Kartofler, spise-\n",
      "There are 3885 fields (total area = 28040 ha) of type: Kartofler, stivelses-\n",
      "\n",
      "### Analyzing FieldPolygons2018 ###\n",
      "There are 497 fields (total area = 3693 ha) of type: Kartofler, andre\n",
      "There are 317 fields (total area = 2988 ha) of type: Kartofler, lægge- (certificerede)\n",
      "There are 704 fields (total area = 3700 ha) of type: Kartofler, lægge- (egen opformering)\n",
      "There are 2137 fields (total area = 7805 ha) of type: Kartofler, spise-\n",
      "There are 3484 fields (total area = 26235 ha) of type: Kartofler, stivelses-\n",
      "\n",
      "### Analyzing FieldPolygons2019 ###\n",
      "There are 588 fields (total area = 4877 ha) of type: Kartofler, andre\n",
      "There are 465 fields (total area = 3966 ha) of type: Kartofler, lægge- (certificerede)\n",
      "There are 758 fields (total area = 4144 ha) of type: Kartofler, lægge- (egen opformering)\n",
      "There are 2185 fields (total area = 7930 ha) of type: Kartofler, spise-\n",
      "There are 4649 fields (total area = 35727 ha) of type: Kartofler, stivelses-\n",
      "\n",
      "time: 1.38 s\n"
     ]
    }
   ],
   "source": [
    "def extract_potato_fields(df):\n",
    "    # Create a new dataframe with all the different types of potatoes\n",
    "    df = df[df['afgroede'].str.contains(\"kartof\", case=False)]  \n",
    "\n",
    "    # Find the different potato types, count the number of fields for each type, and calculate total area for each type\n",
    "    for potato_type in sorted(df['afgroede'].unique()):\n",
    "        num_fields = df[df['afgroede'] == potato_type].shape[0]\n",
    "        sum_area = df[df['afgroede'] == potato_type]['imk_areal'].sum()\n",
    "        print(\"There are \" + str(num_fields) + \" fields (total area = \" + str(int(sum_area)) + \" ha) of type: \" + potato_type)\n",
    "        \n",
    "    return df \n",
    "\n",
    "# Extract the potato fields and load them into a new dict with each year as a key\n",
    "df_potato = {}\n",
    "for df_name, df in df_all.items():\n",
    "    print(\"### Analyzing \" + df_name + \" ###\")\n",
    "    df_potato[df_name] = extract_potato_fields(df)\n",
    "    print(\"\")"
   ]
  },
  {
   "cell_type": "markdown",
   "metadata": {},
   "source": [
    "---\n",
    "Calculate zonal statistics for the the potato fields for the different radar data measurements:"
   ]
  },
  {
   "cell_type": "code",
   "execution_count": 212,
   "metadata": {},
   "outputs": [
    {
     "name": "stdout",
     "output_type": "stream",
     "text": [
      "Projection used is: EPSG:4326\n"
     ]
    },
    {
     "name": "stderr",
     "output_type": "stream",
     "text": [
      "/opt/conda/lib/python3.7/site-packages/pyproj/crs.py:77: FutureWarning: '+init=<authority>:<code>' syntax is deprecated. '<authority>:<code>' is the preferred initialization method.\n",
      "  return _prepare_from_string(\" \".join(pjargs))\n",
      "/opt/conda/lib/python3.7/site-packages/pyproj/crs.py:77: FutureWarning: '+init=<authority>:<code>' syntax is deprecated. '<authority>:<code>' is the preferred initialization method.\n",
      "  return _prepare_from_string(\" \".join(pjargs))\n",
      "/opt/conda/lib/python3.7/site-packages/pyproj/crs.py:77: FutureWarning: '+init=<authority>:<code>' syntax is deprecated. '<authority>:<code>' is the preferred initialization method.\n",
      "  return _prepare_from_string(\" \".join(pjargs))\n"
     ]
    },
    {
     "name": "stdout",
     "output_type": "stream",
     "text": [
      "time: 2.55 s\n"
     ]
    }
   ],
   "source": [
    "tif = list((PROJ_PATH / 'data' / 'raw' / 'Sentinel-1').glob('*.tif'))[0]\n",
    "with rasterio.open(tif) as src:\n",
    "    tif_crs = src.crs\n",
    "    print(\"Projection used is: \" + str(tif_crs))\n",
    "\n",
    "for df_name, df in df_potato.items():\n",
    "    # Set the CRS in the geodataframe to be wkt format (otherwise you won't be able to save as a shapefile)\n",
    "    df_potato[df_name] = df_potato[df_name].to_crs({'init': tif_crs})"
   ]
  },
  {
   "cell_type": "code",
   "execution_count": null,
   "metadata": {},
   "outputs": [
    {
     "name": "stdout",
     "output_type": "stream",
     "text": [
      "Calculating zonal statistics for: FieldPolygons2017\n"
     ]
    },
    {
     "data": {
      "application/vnd.jupyter.widget-view+json": {
       "model_id": "5e85f86efd824379831e2c10659ae967",
       "version_major": 2,
       "version_minor": 0
      },
      "text/plain": [
       "HBox(children=(FloatProgress(value=0.0, max=30.0), HTML(value='')))"
      ]
     },
     "metadata": {},
     "output_type": "display_data"
    }
   ],
   "source": [
    "tifs = sorted((PROJ_PATH / 'data' / 'raw' / 'Sentinel-1').glob('*.tif'))\n",
    "df_potato_stats = df_potato.copy()\n",
    "\n",
    "for df_name, df in df_potato.items(): # Loop over all field polygon years\n",
    "    pkl_name = df_name + '_stats' \n",
    "    pkl_path = (PROJ_PATH / 'data' / 'processed' / pkl_name).with_suffix('.pkl')\n",
    "    if pkl_path.exists():\n",
    "        print(\"Zonal statistics have already been calculated for: \" + df_name)\n",
    "    else:\n",
    "        print(\"Calculating zonal statistics for: \" + df_name)\n",
    "        #df = df.head(20)  # For debugging to (ie. only process 20 fields)\n",
    "        for tif in tqdm(tifs):  # Loop over all Sentinel-1 images\n",
    "            for band in range(1, 4):  # Loop over all three bands (indexed 1 to 3)\n",
    "                rasterstatsmulti = RasterstatsMultiProc(df=df, tif=tif, all_touched=ALL_TOUCHED)\n",
    "\n",
    "                if MULTI_PROC_ZONAL_STATS:\n",
    "                    results_df = rasterstatsmulti.calc_zonal_stats_multiproc()     \n",
    "                else:\n",
    "                    results_df = rasterstatsmulti.calc_zonal_stats(band=band, prog_bar=False) \n",
    "\n",
    "                del rasterstatsmulti\n",
    "\n",
    "                stats_cols = {\n",
    "                    'min': tif.stem + '_B' + str(band) + '_min',\n",
    "                    'max': tif.stem + '_B' + str(band) + '_max',\n",
    "                    'mean': tif.stem + '_B' + str(band) + '_mean',\n",
    "                    'std': tif.stem + '_B' + str(band) + '_std',\n",
    "                    'median': tif.stem + '_B' + str(band) + '_median',\n",
    "                }\n",
    "\n",
    "                results_df = results_df.rename(columns=stats_cols)\n",
    "\n",
    "                # Note: The * operator iterates through the list (https://stackoverflow.com/a/56736691/12045808)\n",
    "                df_potato_stats[df_name] = df_potato_stats[df_name].merge(results_df[['id', *stats_cols.values()]], left_on='id', right_on='id')\n",
    "\n",
    "        if not shp_path.parent.exists():\n",
    "            os.makedirs(shp_path.parent)\n",
    "\n",
    "        # Set the CRS in the geodataframe to be wkt format (otherwise you won't be able to save as a shapefile)\n",
    "        #df_potato_stats[df_name].crs = df_potato_stats[df_name].crs['init'].to_wkt()\n",
    "        #df_potato_stats[df_name] = df_potato_stats[df_name].dropna()\n",
    "        df_potato_stats[df_name].to_pickle(pkl_path) "
   ]
  },
  {
   "cell_type": "code",
   "execution_count": 289,
   "metadata": {},
   "outputs": [
    {
     "data": {
      "text/html": [
       "<div>\n",
       "<style scoped>\n",
       "    .dataframe tbody tr th:only-of-type {\n",
       "        vertical-align: middle;\n",
       "    }\n",
       "\n",
       "    .dataframe tbody tr th {\n",
       "        vertical-align: top;\n",
       "    }\n",
       "\n",
       "    .dataframe thead th {\n",
       "        text-align: right;\n",
       "    }\n",
       "</style>\n",
       "<table border=\"1\" class=\"dataframe\">\n",
       "  <thead>\n",
       "    <tr style=\"text-align: right;\">\n",
       "      <th></th>\n",
       "      <th>id</th>\n",
       "      <th>imk_areal</th>\n",
       "      <th>journalnr</th>\n",
       "      <th>cvr</th>\n",
       "      <th>marknr</th>\n",
       "      <th>afgroede</th>\n",
       "      <th>afgkode</th>\n",
       "      <th>gbanmeldt</th>\n",
       "      <th>gb</th>\n",
       "      <th>geometry</th>\n",
       "      <th>...</th>\n",
       "      <th>S1B_20190820_017665_DSC_139_RGB_B2_min</th>\n",
       "      <th>S1B_20190820_017665_DSC_139_RGB_B2_max</th>\n",
       "      <th>S1B_20190820_017665_DSC_139_RGB_B2_mean</th>\n",
       "      <th>S1B_20190820_017665_DSC_139_RGB_B2_std</th>\n",
       "      <th>S1B_20190820_017665_DSC_139_RGB_B2_median</th>\n",
       "      <th>S1B_20190820_017665_DSC_139_RGB_B3_min</th>\n",
       "      <th>S1B_20190820_017665_DSC_139_RGB_B3_max</th>\n",
       "      <th>S1B_20190820_017665_DSC_139_RGB_B3_mean</th>\n",
       "      <th>S1B_20190820_017665_DSC_139_RGB_B3_std</th>\n",
       "      <th>S1B_20190820_017665_DSC_139_RGB_B3_median</th>\n",
       "    </tr>\n",
       "  </thead>\n",
       "  <tbody>\n",
       "    <tr>\n",
       "      <th>0</th>\n",
       "      <td>54925491</td>\n",
       "      <td>4.70</td>\n",
       "      <td>17-0018336</td>\n",
       "      <td>34104514</td>\n",
       "      <td>3-0</td>\n",
       "      <td>Kartofler, lægge- (egen opformering)</td>\n",
       "      <td>150.0</td>\n",
       "      <td>4.0</td>\n",
       "      <td>1.0</td>\n",
       "      <td>POLYGON ((8.91862 56.39855, 8.91887 56.39893, ...</td>\n",
       "      <td>...</td>\n",
       "      <td>-16.0</td>\n",
       "      <td>-4.0</td>\n",
       "      <td>-8.378092</td>\n",
       "      <td>1.873387</td>\n",
       "      <td>-8.0</td>\n",
       "      <td>-2.0</td>\n",
       "      <td>17.0</td>\n",
       "      <td>7.702002</td>\n",
       "      <td>2.881975</td>\n",
       "      <td>7.0</td>\n",
       "    </tr>\n",
       "    <tr>\n",
       "      <th>1</th>\n",
       "      <td>54925473</td>\n",
       "      <td>4.13</td>\n",
       "      <td>17-0018336</td>\n",
       "      <td>34104514</td>\n",
       "      <td>8-0</td>\n",
       "      <td>Kartofler, lægge- (egen opformering)</td>\n",
       "      <td>150.0</td>\n",
       "      <td>4.0</td>\n",
       "      <td>1.0</td>\n",
       "      <td>POLYGON ((8.92149 56.39784, 8.92193 56.39857, ...</td>\n",
       "      <td>...</td>\n",
       "      <td>-16.0</td>\n",
       "      <td>-3.0</td>\n",
       "      <td>-8.705645</td>\n",
       "      <td>2.040759</td>\n",
       "      <td>-8.0</td>\n",
       "      <td>-1.0</td>\n",
       "      <td>19.0</td>\n",
       "      <td>7.717742</td>\n",
       "      <td>2.796101</td>\n",
       "      <td>8.0</td>\n",
       "    </tr>\n",
       "    <tr>\n",
       "      <th>2</th>\n",
       "      <td>54925508</td>\n",
       "      <td>6.68</td>\n",
       "      <td>17-0018336</td>\n",
       "      <td>34104514</td>\n",
       "      <td>9-0</td>\n",
       "      <td>Kartofler, lægge- (egen opformering)</td>\n",
       "      <td>150.0</td>\n",
       "      <td>6.0</td>\n",
       "      <td>1.0</td>\n",
       "      <td>POLYGON ((8.92384 56.39585, 8.92361 56.39606, ...</td>\n",
       "      <td>...</td>\n",
       "      <td>-17.0</td>\n",
       "      <td>0.0</td>\n",
       "      <td>-8.451078</td>\n",
       "      <td>2.168792</td>\n",
       "      <td>-8.0</td>\n",
       "      <td>-2.0</td>\n",
       "      <td>19.0</td>\n",
       "      <td>7.655887</td>\n",
       "      <td>2.841325</td>\n",
       "      <td>8.0</td>\n",
       "    </tr>\n",
       "    <tr>\n",
       "      <th>3</th>\n",
       "      <td>54925519</td>\n",
       "      <td>8.44</td>\n",
       "      <td>17-0018336</td>\n",
       "      <td>34104514</td>\n",
       "      <td>40-0</td>\n",
       "      <td>Kartofler, lægge- (egen opformering)</td>\n",
       "      <td>150.0</td>\n",
       "      <td>8.0</td>\n",
       "      <td>1.0</td>\n",
       "      <td>POLYGON ((8.96401 56.38641, 8.96403 56.38642, ...</td>\n",
       "      <td>...</td>\n",
       "      <td>-22.0</td>\n",
       "      <td>-6.0</td>\n",
       "      <td>-12.214567</td>\n",
       "      <td>2.279493</td>\n",
       "      <td>-12.0</td>\n",
       "      <td>-3.0</td>\n",
       "      <td>17.0</td>\n",
       "      <td>4.552493</td>\n",
       "      <td>2.715127</td>\n",
       "      <td>4.0</td>\n",
       "    </tr>\n",
       "    <tr>\n",
       "      <th>4</th>\n",
       "      <td>54925429</td>\n",
       "      <td>5.53</td>\n",
       "      <td>17-0018336</td>\n",
       "      <td>34104514</td>\n",
       "      <td>40-1</td>\n",
       "      <td>Kartofler, lægge- (egen opformering)</td>\n",
       "      <td>150.0</td>\n",
       "      <td>5.0</td>\n",
       "      <td>1.0</td>\n",
       "      <td>POLYGON ((8.96176 56.38628, 8.96238 56.38631, ...</td>\n",
       "      <td>...</td>\n",
       "      <td>-18.0</td>\n",
       "      <td>-5.0</td>\n",
       "      <td>-11.521565</td>\n",
       "      <td>2.344628</td>\n",
       "      <td>-12.0</td>\n",
       "      <td>-2.0</td>\n",
       "      <td>15.0</td>\n",
       "      <td>4.897693</td>\n",
       "      <td>2.838262</td>\n",
       "      <td>5.0</td>\n",
       "    </tr>\n",
       "  </tbody>\n",
       "</table>\n",
       "<p>5 rows × 460 columns</p>\n",
       "</div>"
      ],
      "text/plain": [
       "         id  imk_areal   journalnr       cvr marknr  \\\n",
       "0  54925491       4.70  17-0018336  34104514    3-0   \n",
       "1  54925473       4.13  17-0018336  34104514    8-0   \n",
       "2  54925508       6.68  17-0018336  34104514    9-0   \n",
       "3  54925519       8.44  17-0018336  34104514   40-0   \n",
       "4  54925429       5.53  17-0018336  34104514   40-1   \n",
       "\n",
       "                               afgroede  afgkode  gbanmeldt   gb  \\\n",
       "0  Kartofler, lægge- (egen opformering)    150.0        4.0  1.0   \n",
       "1  Kartofler, lægge- (egen opformering)    150.0        4.0  1.0   \n",
       "2  Kartofler, lægge- (egen opformering)    150.0        6.0  1.0   \n",
       "3  Kartofler, lægge- (egen opformering)    150.0        8.0  1.0   \n",
       "4  Kartofler, lægge- (egen opformering)    150.0        5.0  1.0   \n",
       "\n",
       "                                            geometry  ...  \\\n",
       "0  POLYGON ((8.91862 56.39855, 8.91887 56.39893, ...  ...   \n",
       "1  POLYGON ((8.92149 56.39784, 8.92193 56.39857, ...  ...   \n",
       "2  POLYGON ((8.92384 56.39585, 8.92361 56.39606, ...  ...   \n",
       "3  POLYGON ((8.96401 56.38641, 8.96403 56.38642, ...  ...   \n",
       "4  POLYGON ((8.96176 56.38628, 8.96238 56.38631, ...  ...   \n",
       "\n",
       "   S1B_20190820_017665_DSC_139_RGB_B2_min  \\\n",
       "0                                   -16.0   \n",
       "1                                   -16.0   \n",
       "2                                   -17.0   \n",
       "3                                   -22.0   \n",
       "4                                   -18.0   \n",
       "\n",
       "   S1B_20190820_017665_DSC_139_RGB_B2_max  \\\n",
       "0                                    -4.0   \n",
       "1                                    -3.0   \n",
       "2                                     0.0   \n",
       "3                                    -6.0   \n",
       "4                                    -5.0   \n",
       "\n",
       "   S1B_20190820_017665_DSC_139_RGB_B2_mean  \\\n",
       "0                                -8.378092   \n",
       "1                                -8.705645   \n",
       "2                                -8.451078   \n",
       "3                               -12.214567   \n",
       "4                               -11.521565   \n",
       "\n",
       "   S1B_20190820_017665_DSC_139_RGB_B2_std  \\\n",
       "0                                1.873387   \n",
       "1                                2.040759   \n",
       "2                                2.168792   \n",
       "3                                2.279493   \n",
       "4                                2.344628   \n",
       "\n",
       "   S1B_20190820_017665_DSC_139_RGB_B2_median  \\\n",
       "0                                       -8.0   \n",
       "1                                       -8.0   \n",
       "2                                       -8.0   \n",
       "3                                      -12.0   \n",
       "4                                      -12.0   \n",
       "\n",
       "   S1B_20190820_017665_DSC_139_RGB_B3_min  \\\n",
       "0                                    -2.0   \n",
       "1                                    -1.0   \n",
       "2                                    -2.0   \n",
       "3                                    -3.0   \n",
       "4                                    -2.0   \n",
       "\n",
       "   S1B_20190820_017665_DSC_139_RGB_B3_max  \\\n",
       "0                                    17.0   \n",
       "1                                    19.0   \n",
       "2                                    19.0   \n",
       "3                                    17.0   \n",
       "4                                    15.0   \n",
       "\n",
       "   S1B_20190820_017665_DSC_139_RGB_B3_mean  \\\n",
       "0                                 7.702002   \n",
       "1                                 7.717742   \n",
       "2                                 7.655887   \n",
       "3                                 4.552493   \n",
       "4                                 4.897693   \n",
       "\n",
       "   S1B_20190820_017665_DSC_139_RGB_B3_std  \\\n",
       "0                                2.881975   \n",
       "1                                2.796101   \n",
       "2                                2.841325   \n",
       "3                                2.715127   \n",
       "4                                2.838262   \n",
       "\n",
       "   S1B_20190820_017665_DSC_139_RGB_B3_median  \n",
       "0                                        7.0  \n",
       "1                                        8.0  \n",
       "2                                        8.0  \n",
       "3                                        4.0  \n",
       "4                                        5.0  \n",
       "\n",
       "[5 rows x 460 columns]"
      ]
     },
     "execution_count": 289,
     "metadata": {},
     "output_type": "execute_result"
    },
    {
     "name": "stdout",
     "output_type": "stream",
     "text": [
      "time: 56.2 ms\n"
     ]
    }
   ],
   "source": [
    "df_potato_stats['FieldPolygons2017'].head(5)"
   ]
  },
  {
   "cell_type": "code",
   "execution_count": 288,
   "metadata": {},
   "outputs": [
    {
     "name": "stdout",
     "output_type": "stream",
     "text": [
      "[-21.629329403095063, -18.692307692307693, -17.88520971302428, -20.699852507374633, -19.043446244477174, -20.416789396170838, -19.836524300441827, -17.407817109144542, -16.430678466076696, -17.848640705363703, -19.79720793534166, -17.490815576781777, -17.992652461425422, -17.851742031134172, -18.263274336283185]\n"
     ]
    },
    {
     "data": {
      "text/plain": [
       "[<matplotlib.lines.Line2D at 0x7fe91ae338d0>]"
      ]
     },
     "execution_count": 288,
     "metadata": {},
     "output_type": "execute_result"
    },
    {
     "data": {
      "image/png": "[encoded data removed]",
      "text/plain": [
       "<Figure size 432x288 with 1 Axes>"
      ]
     },
     "metadata": {
      "needs_background": "light"
     },
     "output_type": "display_data"
    },
    {
     "name": "stdout",
     "output_type": "stream",
     "text": [
      "time: 174 ms\n"
     ]
    }
   ],
   "source": [
    "df_potato_stats = {}\n",
    "for df_name in FIELD_POLYGONS:\n",
    "    pkl_name = df_name + '_stats'\n",
    "    pkl_path = (PROJ_PATH / 'data' / 'processed' / pkl_name).with_suffix('.pkl')\n",
    "    df = pd.read_pickle(pkl_path)\n",
    "    df_potato_stats[df_name] = df\n",
    "    \n",
    "\n",
    "x = []\n",
    "for column in df_potato_stats['FieldPolygons2017']:\n",
    "    if 'S1A' in column and 'B1_mean' in column:\n",
    "        value = df_potato_stats['FieldPolygons2017'][column].loc[8]\n",
    "        x.append(value)\n",
    "    #print(df_potato_stats[column])\n",
    "    \n",
    "print(x)\n",
    "plt.plot(x)"
   ]
  }
 ],
 "metadata": {
  "jupytext": {
   "notebook_metadata_filter": "-all"
  },
  "kernelspec": {
   "display_name": "Python 3",
   "language": "python",
   "name": "python3"
  },
  "language_info": {
   "codemirror_mode": {
    "name": "ipython",
    "version": 3
   },
   "file_extension": ".py",
   "mimetype": "text/x-python",
   "name": "python",
   "nbconvert_exporter": "python",
   "pygments_lexer": "ipython3",
   "version": "3.7.6"
  }
 },
 "nbformat": 4,
 "nbformat_minor": 4
}
