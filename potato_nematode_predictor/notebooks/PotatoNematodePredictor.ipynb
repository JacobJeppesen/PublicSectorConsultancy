{
 "cells": [
  {
   "cell_type": "markdown",
   "metadata": {},
   "source": [
    "# Potato Nematode Predictor\n",
    "This work contains the public sector consultancy work on a potato nematode predictor carried out by Aarhus University.\n",
    "\n",
    "Start by configuring the notebook:"
   ]
  },
  {
   "cell_type": "code",
   "execution_count": 32,
   "metadata": {},
   "outputs": [
    {
     "name": "stdout",
     "output_type": "stream",
     "text": [
      "The autotime extension is already loaded. To reload it, use:\n",
      "  %reload_ext autotime\n",
      "The autoreload extension is already loaded. To reload it, use:\n",
      "  %reload_ext autoreload\n",
      "time: 23.3 ms\n"
     ]
    }
   ],
   "source": [
    "import wget\n",
    "import geopandas\n",
    "import os\n",
    "import rasterio\n",
    "import sys\n",
    "import xarray as xr\n",
    "import pandas as pd\n",
    "import matplotlib.pyplot as plt\n",
    "\n",
    "from pathlib import Path\n",
    "from zipfile import ZipFile\n",
    "from tqdm.autonotebook import tqdm\n",
    "\n",
    "from utils import RasterstatsMultiProc\n",
    "\n",
    "# Automatically prints execution time for the individual cells\n",
    "%load_ext autotime\n",
    "\n",
    "# Automatically reloads functions defined in external files\n",
    "%load_ext autoreload\n",
    "%autoreload 2\n",
    "\n",
    "# Set xarray to use html as display_style\n",
    "xr.set_options(display_style=\"html\")\n",
    "\n",
    "# The path to the project (so absoute file paths can be used throughout the notebook)\n",
    "PROJ_PATH = Path.cwd().parent\n",
    "\n",
    "# Define which field polygons should be used for analysis (2017 to 2019 seem to follow the same metadata format)\n",
    "FIELD_POLYGONS = ['FieldPolygons2017', 'FieldPolygons2018', 'FieldPolygons2019']\n",
    "\n",
    "# Define global flags\n",
    "MULTI_PROC_ZONAL_STATS = False\n",
    "ALL_TOUCHED = False"
   ]
  },
  {
   "cell_type": "markdown",
   "metadata": {},
   "source": [
    "---\n",
    "Download the field polygons from The Danish Agricultural Agency:"
   ]
  },
  {
   "cell_type": "code",
   "execution_count": 2,
   "metadata": {},
   "outputs": [
    {
     "name": "stdout",
     "output_type": "stream",
     "text": [
      "File already exists: /home/jovyan/work/data/external/FieldPolygons2016.zip\n",
      "File already exists: /home/jovyan/work/data/external/FieldPolygons2017.zip\n",
      "File already exists: /home/jovyan/work/data/external/FieldPolygons2018.zip\n",
      "File already exists: /home/jovyan/work/data/external/FieldPolygons2019.zip\n",
      "time: 28.3 ms\n"
     ]
    }
   ],
   "source": [
    "# Downloaded files will go into the 'data/external' folder\n",
    "dest_folder = PROJ_PATH / 'data' / 'external'\n",
    "if not dest_folder.exists():\n",
    "    os.makedirs(dest_folder)\n",
    "    \n",
    "# Define the download links for the field polygons for the individual years\n",
    "file_url_mapping = {\n",
    "    'FieldPolygons2016.zip': 'https://kortdata.fvm.dk/download/DownloadStream?id=3037da0f2744a85adc8b08ca5c31c3cb',\n",
    "    'FieldPolygons2017.zip': 'https://kortdata.fvm.dk/download/DownloadStream?id=d0c8946763e465bf9f6160a6bc40531f',\n",
    "    'FieldPolygons2018.zip': 'https://kortdata.fvm.dk/download/DownloadStream?id=cfb1b47130b7276f8515fbaae60bde2a',\n",
    "    'FieldPolygons2019.zip': 'https://kortdata.fvm.dk/download/DownloadStream?id=3d19613ac986ed05a7c301319738e332'\n",
    "}\n",
    "\n",
    "# Download the zipfiles\n",
    "for filename, url in file_url_mapping.items():\n",
    "    dest_path = PROJ_PATH / 'data' / 'external' / filename\n",
    "    if not dest_path.exists():\n",
    "        wget.download(url, str(dest_path))\n",
    "        print(\"File has been downloaded: \" + filename)\n",
    "    else:\n",
    "        print(\"File already exists: \" + str(PROJ_PATH / 'data' / 'external' / filename))"
   ]
  },
  {
   "cell_type": "markdown",
   "metadata": {},
   "source": [
    "---\n",
    "Then extract the zipfiles:"
   ]
  },
  {
   "cell_type": "code",
   "execution_count": 3,
   "metadata": {},
   "outputs": [
    {
     "name": "stdout",
     "output_type": "stream",
     "text": [
      "Zipfile has already been extracted: /home/jovyan/work/data/external/FieldPolygons2019.zip\n",
      "Zipfile has already been extracted: /home/jovyan/work/data/external/FieldPolygons2016.zip\n",
      "Zipfile has already been extracted: /home/jovyan/work/data/external/FieldPolygons2017.zip\n",
      "Zipfile has already been extracted: /home/jovyan/work/data/external/FieldPolygons2018.zip\n",
      "time: 36 ms\n"
     ]
    }
   ],
   "source": [
    "# The extracted zipfiles will go into the 'data/raw' folder\n",
    "for zipfile in (PROJ_PATH / 'data' / 'external').glob('**/*.zip'):\n",
    "    dest_folder = PROJ_PATH / 'data' / 'raw' / zipfile.stem   \n",
    "    if not dest_folder.exists():\n",
    "        with ZipFile(str(zipfile), 'r') as zipObj:\n",
    "            zipObj.extractall(str(dest_folder))\n",
    "        print(\"Zipfile has been extracted: \" + str(zipfile))\n",
    "    else:\n",
    "        print(\"Zipfile has already been extracted: \" + str(zipfile))"
   ]
  },
  {
   "cell_type": "markdown",
   "metadata": {},
   "source": [
    "---\n",
    "Now load the shapefiles into geopandas dataframes:"
   ]
  },
  {
   "cell_type": "code",
   "execution_count": 4,
   "metadata": {},
   "outputs": [
    {
     "name": "stdout",
     "output_type": "stream",
     "text": [
      "time: 2min 16s\n"
     ]
    }
   ],
   "source": [
    "def load_shp(shp_name):\n",
    "    # Load shapefile into dataframe and remove NaN rows\n",
    "    shp_file_path = list((PROJ_PATH / 'data' / 'raw' / shp_name).glob('**/*.shp'))[0]\n",
    "    df = geopandas.read_file(str(shp_file_path))\n",
    "    df = df.dropna()\n",
    "    \n",
    "    # Change all column names to be lower-case to make the naming consistent across years (https://stackoverflow.com/a/36362607/12045808)\n",
    "    df.columns = map(str.lower, df.columns)\n",
    "    \n",
    "    return df\n",
    "\n",
    "# Load the dataframes into a dict, with each year as a key\n",
    "df_all = {}\n",
    "for df_name in FIELD_POLYGONS:\n",
    "    df = load_shp(df_name)\n",
    "    df_all[df_name] = df"
   ]
  },
  {
   "cell_type": "markdown",
   "metadata": {},
   "source": [
    "---\n",
    "Find the potato fields and count the number of unique sorts:"
   ]
  },
  {
   "cell_type": "code",
   "execution_count": 5,
   "metadata": {},
   "outputs": [
    {
     "name": "stdout",
     "output_type": "stream",
     "text": [
      "### Analyzing FieldPolygons2017 ###\n",
      "There are 618 fields (total area = 4773 ha) of type: Kartofler, andre\n",
      "There are 88 fields (total area = 586 ha) of type: Kartofler, lægge- (certificerede)\n",
      "There are 1089 fields (total area = 6626 ha) of type: Kartofler, lægge- (egen opformering)\n",
      "There are 2597 fields (total area = 9223 ha) of type: Kartofler, spise-\n",
      "There are 3885 fields (total area = 28040 ha) of type: Kartofler, stivelses-\n",
      "\n",
      "### Analyzing FieldPolygons2018 ###\n",
      "There are 497 fields (total area = 3693 ha) of type: Kartofler, andre\n",
      "There are 317 fields (total area = 2988 ha) of type: Kartofler, lægge- (certificerede)\n",
      "There are 704 fields (total area = 3700 ha) of type: Kartofler, lægge- (egen opformering)\n",
      "There are 2137 fields (total area = 7805 ha) of type: Kartofler, spise-\n",
      "There are 3484 fields (total area = 26235 ha) of type: Kartofler, stivelses-\n",
      "\n",
      "### Analyzing FieldPolygons2019 ###\n",
      "There are 588 fields (total area = 4877 ha) of type: Kartofler, andre\n",
      "There are 465 fields (total area = 3966 ha) of type: Kartofler, lægge- (certificerede)\n",
      "There are 758 fields (total area = 4144 ha) of type: Kartofler, lægge- (egen opformering)\n",
      "There are 2185 fields (total area = 7930 ha) of type: Kartofler, spise-\n",
      "There are 4649 fields (total area = 35727 ha) of type: Kartofler, stivelses-\n",
      "\n",
      "time: 2.6 s\n"
     ]
    }
   ],
   "source": [
    "def extract_potato_fields(df):\n",
    "    # Create a new dataframe with all the different types of potatoes\n",
    "    df = df[df['afgroede'].str.contains(\"kartof\", case=False)]  \n",
    "\n",
    "    # Find the different potato types, count the number of fields for each type, and calculate total area for each type\n",
    "    for potato_type in sorted(df['afgroede'].unique()):\n",
    "        num_fields = df[df['afgroede'] == potato_type].shape[0]\n",
    "        sum_area = df[df['afgroede'] == potato_type]['imk_areal'].sum()\n",
    "        print(\"There are \" + str(num_fields) + \" fields (total area = \" + str(int(sum_area)) + \" ha) of type: \" + potato_type)\n",
    "        \n",
    "    return df \n",
    "\n",
    "# Extract the potato fields and load them into a new dict with each year as a key\n",
    "df_potato = {}\n",
    "for df_name, df in df_all.items():\n",
    "    print(\"### Analyzing \" + df_name + \" ###\")\n",
    "    df_potato[df_name] = extract_potato_fields(df)\n",
    "    print(\"\")"
   ]
  },
  {
   "cell_type": "markdown",
   "metadata": {},
   "source": [
    "---\n",
    "Calculate zonal statistics for the the potato fields for the different radar data measurements:"
   ]
  },
  {
   "cell_type": "code",
   "execution_count": 6,
   "metadata": {},
   "outputs": [
    {
     "name": "stdout",
     "output_type": "stream",
     "text": [
      "Projection used is: EPSG:4326\n"
     ]
    },
    {
     "name": "stderr",
     "output_type": "stream",
     "text": [
      "/opt/conda/lib/python3.7/site-packages/pyproj/crs.py:77: FutureWarning: '+init=<authority>:<code>' syntax is deprecated. '<authority>:<code>' is the preferred initialization method.\n",
      "  return _prepare_from_string(\" \".join(pjargs))\n",
      "/opt/conda/lib/python3.7/site-packages/pyproj/crs.py:77: FutureWarning: '+init=<authority>:<code>' syntax is deprecated. '<authority>:<code>' is the preferred initialization method.\n",
      "  return _prepare_from_string(\" \".join(pjargs))\n",
      "/opt/conda/lib/python3.7/site-packages/pyproj/crs.py:77: FutureWarning: '+init=<authority>:<code>' syntax is deprecated. '<authority>:<code>' is the preferred initialization method.\n",
      "  return _prepare_from_string(\" \".join(pjargs))\n"
     ]
    },
    {
     "name": "stdout",
     "output_type": "stream",
     "text": [
      "time: 4.01 s\n"
     ]
    }
   ],
   "source": [
    "tif = list((PROJ_PATH / 'data' / 'raw' / 'Sentinel-1').glob('*.tif'))[0]\n",
    "with rasterio.open(tif) as src:\n",
    "    tif_crs = src.crs\n",
    "    print(\"Projection used is: \" + str(tif_crs))\n",
    "\n",
    "for df_name, df in df_potato.items():\n",
    "    # Set the CRS in the geodataframe to be wkt format (otherwise you won't be able to save as a shapefile)\n",
    "    df_potato[df_name] = df_potato[df_name].to_crs({'init': tif_crs})"
   ]
  },
  {
   "cell_type": "code",
   "execution_count": 291,
   "metadata": {},
   "outputs": [
    {
     "name": "stdout",
     "output_type": "stream",
     "text": [
      "Calculating zonal statistics for: FieldPolygons2017\n"
     ]
    },
    {
     "data": {
      "application/vnd.jupyter.widget-view+json": {
       "model_id": "5e85f86efd824379831e2c10659ae967",
       "version_major": 2,
       "version_minor": 0
      },
      "text/plain": [
       "HBox(children=(FloatProgress(value=0.0, max=30.0), HTML(value='')))"
      ]
     },
     "metadata": {},
     "output_type": "display_data"
    },
    {
     "name": "stdout",
     "output_type": "stream",
     "text": [
      "\n",
      "Calculating zonal statistics for: FieldPolygons2018\n"
     ]
    },
    {
     "data": {
      "application/vnd.jupyter.widget-view+json": {
       "model_id": "1bdff950bc724af9b85d83d991292f32",
       "version_major": 2,
       "version_minor": 0
      },
      "text/plain": [
       "HBox(children=(FloatProgress(value=0.0, max=30.0), HTML(value='')))"
      ]
     },
     "metadata": {},
     "output_type": "display_data"
    },
    {
     "name": "stdout",
     "output_type": "stream",
     "text": [
      "\n",
      "Calculating zonal statistics for: FieldPolygons2019\n"
     ]
    },
    {
     "data": {
      "application/vnd.jupyter.widget-view+json": {
       "model_id": "5a1f0e39565649df93078a3b2ed2c64a",
       "version_major": 2,
       "version_minor": 0
      },
      "text/plain": [
       "HBox(children=(FloatProgress(value=0.0, max=30.0), HTML(value='')))"
      ]
     },
     "metadata": {},
     "output_type": "display_data"
    },
    {
     "name": "stdout",
     "output_type": "stream",
     "text": [
      "\n",
      "time: 4h 24min 18s\n"
     ]
    }
   ],
   "source": [
    "tifs = sorted((PROJ_PATH / 'data' / 'raw' / 'Sentinel-1').glob('*.tif'))\n",
    "df_potato_stats = df_potato.copy()\n",
    "\n",
    "for df_name, df in df_potato.items(): # Loop over all field polygon years\n",
    "    pkl_name = df_name + '_stats' \n",
    "    pkl_path = (PROJ_PATH / 'data' / 'processed' / pkl_name).with_suffix('.pkl')\n",
    "    if pkl_path.exists():\n",
    "        print(\"Zonal statistics have already been calculated for: \" + df_name)\n",
    "    else:\n",
    "        print(\"Calculating zonal statistics for: \" + df_name)\n",
    "        #df = df.head(20)  # For debugging to (ie. only process 20 fields)\n",
    "        for tif in tqdm(tifs):  # Loop over all Sentinel-1 images\n",
    "            for band in range(1, 4):  # Loop over all three bands (indexed 1 to 3)\n",
    "                rasterstatsmulti = RasterstatsMultiProc(df=df, tif=tif, all_touched=ALL_TOUCHED)\n",
    "\n",
    "                if MULTI_PROC_ZONAL_STATS:\n",
    "                    results_df = rasterstatsmulti.calc_zonal_stats_multiproc()     \n",
    "                else:\n",
    "                    results_df = rasterstatsmulti.calc_zonal_stats(band=band, prog_bar=False) \n",
    "\n",
    "                del rasterstatsmulti\n",
    "\n",
    "                stats_cols = {\n",
    "                    'min': tif.stem + '_B' + str(band) + '_min',\n",
    "                    'max': tif.stem + '_B' + str(band) + '_max',\n",
    "                    'mean': tif.stem + '_B' + str(band) + '_mean',\n",
    "                    'std': tif.stem + '_B' + str(band) + '_std',\n",
    "                    'median': tif.stem + '_B' + str(band) + '_median',\n",
    "                }\n",
    "\n",
    "                results_df = results_df.rename(columns=stats_cols)\n",
    "\n",
    "                # Note: The * operator iterates through the list (https://stackoverflow.com/a/56736691/12045808)\n",
    "                df_potato_stats[df_name] = df_potato_stats[df_name].merge(results_df[['id', *stats_cols.values()]], left_on='id', right_on='id')\n",
    "\n",
    "        if not shp_path.parent.exists():\n",
    "            os.makedirs(shp_path.parent)\n",
    "\n",
    "        # Set the CRS in the geodataframe to be wkt format (otherwise you won't be able to save as a shapefile)\n",
    "        #df_potato_stats[df_name].crs = df_potato_stats[df_name].crs['init'].to_wkt()\n",
    "        #df_potato_stats[df_name] = df_potato_stats[df_name].dropna()\n",
    "        df_potato_stats[df_name].to_pickle(pkl_path) "
   ]
  },
  {
   "cell_type": "code",
   "execution_count": 304,
   "metadata": {},
   "outputs": [
    {
     "name": "stdout",
     "output_type": "stream",
     "text": [
      "Calculating zonal statistics for: FieldPolygons2017\n"
     ]
    },
    {
     "data": {
      "application/vnd.jupyter.widget-view+json": {
       "model_id": "74c79b4a60cc4d368542eedfdfaa2b37",
       "version_major": 2,
       "version_minor": 0
      },
      "text/plain": [
       "HBox(children=(FloatProgress(value=0.0, max=3.0), HTML(value='')))"
      ]
     },
     "metadata": {},
     "output_type": "display_data"
    },
    {
     "name": "stdout",
     "output_type": "stream",
     "text": [
      "\n",
      "time: 1.91 s\n"
     ]
    }
   ],
   "source": [
    "# We now want to create an xarray dataset based on the dataframe, with the zonal statistics as extra dimensions\n",
    "tifs = sorted((PROJ_PATH / 'data' / 'raw' / 'Sentinel-1').glob('*.tif'))\n",
    "df_potato_stats = df_potato.copy()\n",
    "\n",
    "for df_name, df in df_potato.items(): # Loop over all field polygon years\n",
    "    netcdf_name = df_name + '_stats' \n",
    "    netcdf_path = (PROJ_PATH / 'data' / 'processed' / netcdf_name).with_suffix('.nc')\n",
    "    #if netcdf_path.exists():\n",
    "    if False:\n",
    "        print(\"Zonal statistics have already been calculated for: \" + df_name)\n",
    "    else:\n",
    "        print(\"Calculating zonal statistics for: \" + df_name)\n",
    "        ### FOR DEBUGGING ###\n",
    "        #df = df.head(20)  \n",
    "        #tifs = tifs[0:3]\n",
    "        #####################\n",
    "        \n",
    "        # Set the index to use the field_id\n",
    "        #df = df.set_index('id')\n",
    "        \n",
    "        # Load the dataframe into xarray and rename id to field_id\n",
    "        ds = xr.Dataset.from_dataframe(df.set_index('id'))\n",
    "        ds = ds.rename({'id': 'field_id'})\n",
    "        ds = ds.drop('geometry')  # Cannot be saved to netcdf format\n",
    "\n",
    "        # Find the dates of all the tif files and assign them as new coordinates\n",
    "        dates_str = list(map(lambda x: x.stem[4:12], tifs))\n",
    "        dates = pd.to_datetime(dates_str)\n",
    "        ds = ds.assign_coords({'date': dates})\n",
    "        \n",
    "        # Assign polarization coordinates\n",
    "        ds = ds.assign_coords({'polarization': ['VH', 'VV', 'VV-VH']})\n",
    "\n",
    "        # Create the empty array for the stats\n",
    "        num_fields = ds.dims['field_id']\n",
    "        num_dates = len(dates)\n",
    "        num_polarizations = ds.dims['polarization']\n",
    "        stats_min_array = np.zeros((num_fields, num_dates, num_polarizations))  # The '3' is the polarization\n",
    "        stats_max_array = np.zeros((num_fields, num_dates, num_polarizations))  # The '3' is the polarization\n",
    "        stats_mean_array = np.zeros((num_fields, num_dates, num_polarizations))  # The '3' is the polarization\n",
    "        stats_std_array = np.zeros((num_fields, num_dates, num_polarizations))  # The '3' is the polarization\n",
    "        stats_median_array = np.zeros((num_fields, num_dates, num_polarizations))  # The '3' is the polarization\n",
    "\n",
    "        # Calculate the zonal stats\n",
    "        for date_index, tif in enumerate(tqdm(tifs)):  # Loop over all Sentinel-1 images\n",
    "            # Get metadata for satellite pass from the filename of the .tif file (not used at the moment)\n",
    "            #satellite = tif.stem[0:3]\n",
    "            #pass_mode = tif.stem[20:23]\n",
    "            #relative_orbit = tif.stem[24:27]\n",
    "            \n",
    "            # Perform zonal statistics on all bands\n",
    "            for band in range(1, 4):  # Loop over all three bands (indexed 1 to 3)\n",
    "                rasterstatsmulti = RasterstatsMultiProc(df=df, tif=tif, all_touched=ALL_TOUCHED)\n",
    "\n",
    "                if MULTI_PROC_ZONAL_STATS:\n",
    "                    results_df = rasterstatsmulti.calc_zonal_stats_multiproc()     \n",
    "                else:\n",
    "                    results_df = rasterstatsmulti.calc_zonal_stats(band=band, prog_bar=False) \n",
    "\n",
    "                del rasterstatsmulti\n",
    "                \n",
    "                # Check if the ordering of the field_ids are the same in the xarray dataset and the results_df\n",
    "                # (they must be - otherwise the calculated statistics will be assigned to the wrong elements in the statistics arrays)\n",
    "                for i in np.random.randint(low=0, high=num_fields, size=20):\n",
    "                    ds_field_id = ds.isel(field_id=i)['field_id'].values\n",
    "                    df_field_id = results_df.iloc[i]['id']\n",
    "                    assert ds_field_id == df_field_id \n",
    "                \n",
    "                # Update the statistics arrays\n",
    "                polarization_index = band-1\n",
    "                stats_min_array[:, date_index, polarization_index] = results_df['min']\n",
    "                stats_max_array[:, date_index, polarization_index] = results_df['max']\n",
    "                stats_mean_array[:, date_index, polarization_index] = results_df['mean']\n",
    "                stats_std_array[:, date_index, polarization_index] = results_df['std']\n",
    "                stats_median_array[:, date_index, polarization_index] = results_df['median']\n",
    "                \n",
    "        # Load the zonal stats into xarray\n",
    "        ds['stats_min']=(['field_id', 'date', 'polarization'], stats_min_array)\n",
    "        ds['stats_max']=(['field_id', 'date', 'polarization'], stats_max_array)\n",
    "        ds['stats_mean']=(['field_id', 'date', 'polarization'], stats_mean_array)\n",
    "        ds['stats_std']=(['field_id', 'date', 'polarization'], stats_std_array)\n",
    "        ds['stats_median']=(['field_id', 'date', 'polarization'], stats_median_array)\n",
    "\n",
    "        # Save the dataset\n",
    "        if not netcdf_path.parent.exists():\n",
    "            os.makedirs(netcdf_path.parent)\n",
    "        ds = ds.sortby('date')  # Sort the dates (they are scrambled due to naming of the tif files starting with 'S1A' and 'S1B')\n",
    "        ds.to_netcdf(netcdf_path, engine='h5netcdf')\n",
    "    break"
   ]
  },
  {
   "cell_type": "code",
   "execution_count": 305,
   "metadata": {},
   "outputs": [
    {
     "data": {
      "image/png": "[encoded data removed]",
      "text/plain": [
       "<Figure size 432x288 with 1 Axes>"
      ]
     },
     "metadata": {
      "needs_background": "light"
     },
     "output_type": "display_data"
    },
    {
     "name": "stdout",
     "output_type": "stream",
     "text": [
      "time: 286 ms\n"
     ]
    }
   ],
   "source": [
    "netcdf_path = (PROJ_PATH / 'data' / 'processed' / 'FieldPolygons2017_stats').with_suffix('.nc')\n",
    "with xr.open_dataset(netcdf_path, engine=\"h5netcdf\") as ds:\n",
    "    ds = ds.isel(field_id=3)  # Only select one field or the plotting fucks up\n",
    "    ds = ds.sel(date=slice('2019-01-01', '2019-11-24'))\n",
    "    ds = ds.sel(polarization='VV')\n",
    "\n",
    "    ds.to_dataframe()['stats_mean'].plot(style='s-')"
   ]
  }
 ],
 "metadata": {
  "jupytext": {
   "notebook_metadata_filter": "-all"
  },
  "kernelspec": {
   "display_name": "Python 3",
   "language": "python",
   "name": "python3"
  },
  "language_info": {
   "codemirror_mode": {
    "name": "ipython",
    "version": 3
   },
   "file_extension": ".py",
   "mimetype": "text/x-python",
   "name": "python",
   "nbconvert_exporter": "python",
   "pygments_lexer": "ipython3",
   "version": "3.7.6"
  }
 },
 "nbformat": 4,
 "nbformat_minor": 4
}
