{
 "cells": [
  {
   "cell_type": "markdown",
   "metadata": {},
   "source": [
    "# Potato Nematode Predictor\n",
    "This work contains the public sector consultancy work on a potato nematode predictor carried out by Aarhus University.\n",
    "\n",
    "Start by configuring the notebook:"
   ]
  },
  {
   "cell_type": "code",
   "execution_count": 1,
   "metadata": {},
   "outputs": [],
   "source": [
    "import wget\n",
    "import geopandas\n",
    "import qgrid\n",
    "\n",
    "from pathlib import Path\n",
    "from zipfile import ZipFile\n",
    "\n",
    "%load_ext autotime\n",
    "%load_ext autoreload\n",
    "%autoreload 2\n",
    "\n",
    "proj_path = Path.cwd().parent"
   ]
  },
  {
   "cell_type": "markdown",
   "metadata": {},
   "source": [
    "Download the field polygons from The Danish Agricultural Agency:"
   ]
  },
  {
   "cell_type": "code",
   "execution_count": 10,
   "metadata": {},
   "outputs": [
    {
     "name": "stdout",
     "output_type": "stream",
     "text": [
      "File already exists: /home/jovyan/work/PublicSectorConsultancy/potato_nematode_predictor/data/external/FieldPolygons2016.zip\n",
      "time: 16.5 ms\n"
     ]
    }
   ],
   "source": [
    "dest_folder = proj_path / 'data' / 'external'\n",
    "file_url_mapping = {\n",
    "    'FieldPolygons2016.zip': 'http://i3.ytimg.com/vi/J---aiyznGQ/mqdefault.jpg'\n",
    "}\n",
    "\n",
    "for filename, url in file_url_mapping.items():\n",
    "    dest_file = proj_path / 'data' / 'external' / filename\n",
    "    if not dest_file.exists():\n",
    "        wget.download(url, str())\n",
    "        print(\"File has been downloaded: \" + filename)\n",
    "    else:\n",
    "        print(\"File already exists: \" + str(proj_path / 'data' / 'external' / filename))"
   ]
  },
  {
   "cell_type": "markdown",
   "metadata": {},
   "source": [
    "Then extract the zipfiles:"
   ]
  },
  {
   "cell_type": "code",
   "execution_count": 3,
   "metadata": {},
   "outputs": [
    {
     "name": "stdout",
     "output_type": "stream",
     "text": [
      "Zipfile has already been extracted: /home/jovyan/work/PublicSectorConsultancy/potato_nematode_predictor/data/external/FieldPolygons2016.zip\n",
      "time: 13.5 ms\n"
     ]
    }
   ],
   "source": [
    "for zipfile in (proj_path / 'data' / 'external').glob('**/*.zip'):\n",
    "    dest_folder = proj_path / 'data' / 'raw' / zipfile.stem\n",
    "    if not dest_folder.exists():\n",
    "        with ZipFile(str(zipfile), 'r') as zipObj:\n",
    "            zipObj.extractall(str(dest_folder))\n",
    "        print(\"Zipfile has been extracted: \" + str(zipfile))\n",
    "    else:\n",
    "        print(\"Zipfile has already been extracted: \" + str(zipfile))"
   ]
  },
  {
   "cell_type": "markdown",
   "metadata": {},
   "source": [
    "Now load the shapefiles into geopandas dataframes and look at 3 example fields:"
   ]
  },
  {
   "cell_type": "code",
   "execution_count": 11,
   "metadata": {},
   "outputs": [
    {
     "data": {
      "text/html": [
       "<div>\n",
       "<style scoped>\n",
       "    .dataframe tbody tr th:only-of-type {\n",
       "        vertical-align: middle;\n",
       "    }\n",
       "\n",
       "    .dataframe tbody tr th {\n",
       "        vertical-align: top;\n",
       "    }\n",
       "\n",
       "    .dataframe thead th {\n",
       "        text-align: right;\n",
       "    }\n",
       "</style>\n",
       "<table border=\"1\" class=\"dataframe\">\n",
       "  <thead>\n",
       "    <tr style=\"text-align: right;\">\n",
       "      <th></th>\n",
       "      <th>Marknr</th>\n",
       "      <th>IMK_areal</th>\n",
       "      <th>Journalnr</th>\n",
       "      <th>CVR</th>\n",
       "      <th>Afgkode</th>\n",
       "      <th>Afgroede</th>\n",
       "      <th>GB</th>\n",
       "      <th>geometry</th>\n",
       "    </tr>\n",
       "  </thead>\n",
       "  <tbody>\n",
       "    <tr>\n",
       "      <th>0</th>\n",
       "      <td>1-1</td>\n",
       "      <td>1.92</td>\n",
       "      <td>16-0033095</td>\n",
       "      <td>86378019</td>\n",
       "      <td>1.0</td>\n",
       "      <td>Vårbyg</td>\n",
       "      <td>1.0</td>\n",
       "      <td>POLYGON ((680104.9238350778 6182870.688777743,...</td>\n",
       "    </tr>\n",
       "    <tr>\n",
       "      <th>1</th>\n",
       "      <td>3-0</td>\n",
       "      <td>2.29</td>\n",
       "      <td>16-0039573</td>\n",
       "      <td>52534828</td>\n",
       "      <td>22.0</td>\n",
       "      <td>Vinterraps</td>\n",
       "      <td>1.0</td>\n",
       "      <td>POLYGON ((536176.5556502932 6083754.099449905,...</td>\n",
       "    </tr>\n",
       "    <tr>\n",
       "      <th>2</th>\n",
       "      <td>6-0</td>\n",
       "      <td>14.80</td>\n",
       "      <td>16-0018594</td>\n",
       "      <td>13308276</td>\n",
       "      <td>22.0</td>\n",
       "      <td>Vinterraps</td>\n",
       "      <td>1.0</td>\n",
       "      <td>POLYGON ((668055.3661564761 6128190.005961547,...</td>\n",
       "    </tr>\n",
       "  </tbody>\n",
       "</table>\n",
       "</div>"
      ],
      "text/plain": [
       "  Marknr  IMK_areal   Journalnr       CVR  Afgkode    Afgroede   GB  \\\n",
       "0    1-1       1.92  16-0033095  86378019      1.0      Vårbyg  1.0   \n",
       "1    3-0       2.29  16-0039573  52534828     22.0  Vinterraps  1.0   \n",
       "2    6-0      14.80  16-0018594  13308276     22.0  Vinterraps  1.0   \n",
       "\n",
       "                                            geometry  \n",
       "0  POLYGON ((680104.9238350778 6182870.688777743,...  \n",
       "1  POLYGON ((536176.5556502932 6083754.099449905,...  \n",
       "2  POLYGON ((668055.3661564761 6128190.005961547,...  "
      ]
     },
     "execution_count": 11,
     "metadata": {},
     "output_type": "execute_result"
    },
    {
     "name": "stdout",
     "output_type": "stream",
     "text": [
      "time: 38 s\n"
     ]
    }
   ],
   "source": [
    "df_fields_2016 = geopandas.read_file(str(proj_path / 'data' / 'raw' / 'FieldPolygons2016' / 'Marker_2016_CVR.shp'))\n",
    "df_fields_2016 = df_fields_2016.dropna()\n",
    "df_fields_2016.head(3)"
   ]
  },
  {
   "cell_type": "markdown",
   "metadata": {},
   "source": [
    "Find the potato fields and count the number of unique sorts:"
   ]
  },
  {
   "cell_type": "code",
   "execution_count": 12,
   "metadata": {},
   "outputs": [
    {
     "name": "stdout",
     "output_type": "stream",
     "text": [
      "There are 3699 fields of crop type: Kartofler, stivelses-\n",
      "There are 2655 fields of crop type: Kartofler, spise-\n",
      "There are 1025 fields of crop type: Kartofler, lægge-\n",
      "There are 539 fields of crop type: Kartofler, andre\n",
      "time: 799 ms\n"
     ]
    }
   ],
   "source": [
    "df_potato_2016 = df_fields_2016[df_fields_2016['Afgroede'].str.contains(\"kartof\", case=False)]  \n",
    "\n",
    "for crop_type in df_potato_2016['Afgroede'].unique():\n",
    "    num_fields = df_potato_2016[df_fields_2016['Afgroede'] == crop_type].shape[0]\n",
    "    print(\"There are \" + str(num_fields)  + \" fields of crop type: \" + crop_type)"
   ]
  },
  {
   "cell_type": "code",
   "execution_count": null,
   "metadata": {},
   "outputs": [],
   "source": []
  }
 ],
 "metadata": {
  "jupytext": {
   "notebook_metadata_filter": "-all"
  },
  "kernelspec": {
   "display_name": "Python 3",
   "language": "python",
   "name": "python3"
  },
  "language_info": {
   "codemirror_mode": {
    "name": "ipython",
    "version": 3
   },
   "file_extension": ".py",
   "mimetype": "text/x-python",
   "name": "python",
   "nbconvert_exporter": "python",
   "pygments_lexer": "ipython3",
   "version": "3.7.6"
  }
 },
 "nbformat": 4,
 "nbformat_minor": 4
}
