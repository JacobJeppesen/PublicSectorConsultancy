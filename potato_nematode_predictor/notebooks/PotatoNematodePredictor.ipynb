{
 "cells": [
  {
   "cell_type": "markdown",
   "metadata": {},
   "source": [
    "# Potato Nematode Predictor\n",
    "This work contains the public sector consultancy work on a potato nematode predictor carried out by Aarhus University.\n",
    "\n",
    "Start by configuring the notebook:"
   ]
  },
  {
   "cell_type": "code",
   "execution_count": 54,
   "metadata": {},
   "outputs": [
    {
     "name": "stdout",
     "output_type": "stream",
     "text": [
      "The autotime extension is already loaded. To reload it, use:\n",
      "  %reload_ext autotime\n",
      "The autoreload extension is already loaded. To reload it, use:\n",
      "  %reload_ext autoreload\n",
      "time: 22.5 ms\n"
     ]
    }
   ],
   "source": [
    "import wget\n",
    "import geopandas\n",
    "import qgrid\n",
    "import os\n",
    "\n",
    "from pathlib import Path\n",
    "from zipfile import ZipFile\n",
    "\n",
    "%load_ext autotime\n",
    "%load_ext autoreload\n",
    "%autoreload 2\n",
    "\n",
    "PROJ_PATH = Path.cwd().parent\n",
    "FIELD_POLYGONS = ['FieldPolygons2016', 'FieldPolygons2017', 'FieldPolygons2018', 'FieldPolygons2019']"
   ]
  },
  {
   "cell_type": "markdown",
   "metadata": {},
   "source": [
    "Download the field polygons from The Danish Agricultural Agency:"
   ]
  },
  {
   "cell_type": "code",
   "execution_count": 53,
   "metadata": {},
   "outputs": [
    {
     "name": "stdout",
     "output_type": "stream",
     "text": [
      "File already exists: /home/jovyan/work/data/external/FieldPolygons2016.zip\n",
      "File already exists: /home/jovyan/work/data/external/FieldPolygons2017.zip\n",
      "File already exists: /home/jovyan/work/data/external/FieldPolygons2018.zip\n",
      "File already exists: /home/jovyan/work/data/external/FieldPolygons2019.zip\n",
      "time: 12.8 ms\n"
     ]
    }
   ],
   "source": [
    "dest_folder = PROJ_PATH / 'data' / 'external'\n",
    "if not dest_folder.exists():\n",
    "    os.makedirs(dest_folder)\n",
    "    \n",
    "file_url_mapping = {\n",
    "    'FieldPolygons2016.zip': 'https://kortdata.fvm.dk/download/DownloadStream?id=3037da0f2744a85adc8b08ca5c31c3cb',\n",
    "    'FieldPolygons2017.zip': 'https://kortdata.fvm.dk/download/DownloadStream?id=d0c8946763e465bf9f6160a6bc40531f',\n",
    "    'FieldPolygons2018.zip': 'https://kortdata.fvm.dk/download/DownloadStream?id=cfb1b47130b7276f8515fbaae60bde2a',\n",
    "    'FieldPolygons2019.zip': 'https://kortdata.fvm.dk/download/DownloadStream?id=3d19613ac986ed05a7c301319738e332'\n",
    "}\n",
    "\n",
    "for filename, url in file_url_mapping.items():\n",
    "    dest_path = PROJ_PATH / 'data' / 'external' / filename\n",
    "    if not dest_path.exists():\n",
    "        wget.download(url, str(dest_path))\n",
    "        print(\"File has been downloaded: \" + filename)\n",
    "    else:\n",
    "        print(\"File already exists: \" + str(PROJ_PATH / 'data' / 'external' / filename))"
   ]
  },
  {
   "cell_type": "markdown",
   "metadata": {},
   "source": [
    "Then extract the zipfiles:"
   ]
  },
  {
   "cell_type": "code",
   "execution_count": 17,
   "metadata": {},
   "outputs": [
    {
     "name": "stdout",
     "output_type": "stream",
     "text": [
      "Zipfile has been extracted: /home/jovyan/work/data/external/FieldPolygons2019.zip\n",
      "Zipfile has been extracted: /home/jovyan/work/data/external/FieldPolygons2016.zip\n",
      "Zipfile has been extracted: /home/jovyan/work/data/external/FieldPolygons2017.zip\n",
      "Zipfile has been extracted: /home/jovyan/work/data/external/FieldPolygons2018.zip\n",
      "time: 13.2 s\n"
     ]
    }
   ],
   "source": [
    "for zipfile in (PROJ_PATH / 'data' / 'external').glob('**/*.zip'):\n",
    "    dest_folder = PROJ_PATH / 'data' / 'raw' / zipfile.stem\n",
    "    if not dest_folder.exists():\n",
    "        with ZipFile(str(zipfile), 'r') as zipObj:\n",
    "            zipObj.extractall(str(dest_folder))\n",
    "        print(\"Zipfile has been extracted: \" + str(zipfile))\n",
    "    else:\n",
    "        print(\"Zipfile has already been extracted: \" + str(zipfile))"
   ]
  },
  {
   "cell_type": "markdown",
   "metadata": {},
   "source": [
    "Now load the shapefiles into geopandas dataframes:"
   ]
  },
  {
   "cell_type": "code",
   "execution_count": 48,
   "metadata": {},
   "outputs": [
    {
     "name": "stdout",
     "output_type": "stream",
     "text": [
      "time: 2min 23s\n"
     ]
    }
   ],
   "source": [
    "def load_shp(shp_name):\n",
    "    # Load shapefile into dataframe and remove NaN rows\n",
    "    shp_file_path = list((PROJ_PATH / 'data' / 'raw' / shp_name).glob('**/*.shp'))[0]\n",
    "    df = geopandas.read_file(str(shp_file_path))\n",
    "    df = df.dropna()\n",
    "    \n",
    "    # Change all column names to be lower-case to make the naming consistent across years (https://stackoverflow.com/a/36362607/12045808)\n",
    "    df.columns = map(str.lower, df.columns)\n",
    "    \n",
    "    return df\n",
    "\n",
    "# Load the dataframes into a dict, with each year as a key\n",
    "df_fields = {}\n",
    "for df_name in FIELD_POLYGONS:\n",
    "    df = load_shp(df_name)\n",
    "    df_fields[df_name] = df"
   ]
  },
  {
   "cell_type": "markdown",
   "metadata": {},
   "source": [
    "Find the potato fields and count the number of unique sorts:"
   ]
  },
  {
   "cell_type": "code",
   "execution_count": 55,
   "metadata": {},
   "outputs": [
    {
     "name": "stdout",
     "output_type": "stream",
     "text": [
      "### Showing results for: FieldPolygons2016 ###\n",
      "There are 3699 fields of crop type: Kartofler, stivelses-\n",
      "There are 2655 fields of crop type: Kartofler, spise-\n",
      "There are 1025 fields of crop type: Kartofler, lægge-\n",
      "There are 539 fields of crop type: Kartofler, andre\n",
      "\n",
      "### Showing results for: FieldPolygons2017 ###\n",
      "There are 1089 fields of crop type: Kartofler, lægge- (egen opformering)\n",
      "There are 3885 fields of crop type: Kartofler, stivelses-\n",
      "There are 2597 fields of crop type: Kartofler, spise-\n",
      "There are 618 fields of crop type: Kartofler, andre\n",
      "There are 88 fields of crop type: Kartofler, lægge- (certificerede)\n",
      "\n",
      "### Showing results for: FieldPolygons2018 ###\n",
      "There are 3484 fields of crop type: Kartofler, stivelses-\n",
      "There are 2137 fields of crop type: Kartofler, spise-\n",
      "There are 704 fields of crop type: Kartofler, lægge- (egen opformering)\n",
      "There are 497 fields of crop type: Kartofler, andre\n",
      "There are 317 fields of crop type: Kartofler, lægge- (certificerede)\n",
      "\n",
      "### Showing results for: FieldPolygons2019 ###\n",
      "There are 4649 fields of crop type: Kartofler, stivelses-\n",
      "There are 758 fields of crop type: Kartofler, lægge- (egen opformering)\n",
      "There are 588 fields of crop type: Kartofler, andre\n",
      "There are 2185 fields of crop type: Kartofler, spise-\n",
      "There are 465 fields of crop type: Kartofler, lægge- (certificerede)\n",
      "\n",
      "time: 1.82 s\n"
     ]
    }
   ],
   "source": [
    "def count_potato_fields(df):\n",
    "    # Create a new dataframe with all the different types of potatoes\n",
    "    df = df[df['afgroede'].str.contains(\"kartof\", case=False)]  \n",
    "\n",
    "    # Find the different potato types and count the number of fields for each type\n",
    "    for crop_type in df['afgroede'].unique():\n",
    "        num_fields = df[df['afgroede'] == crop_type].shape[0]\n",
    "        print(\"There are \" + str(num_fields)  + \" fields of crop type: \" + crop_type)\n",
    "\n",
    "for df_name, df in df_fields.items():\n",
    "    print(\"### Showing results for: \" + df_name + \" ###\")\n",
    "    count_potato_fields(df)\n",
    "    print(\"\")"
   ]
  },
  {
   "cell_type": "code",
   "execution_count": null,
   "metadata": {},
   "outputs": [],
   "source": []
  }
 ],
 "metadata": {
  "jupytext": {
   "notebook_metadata_filter": "-all"
  },
  "kernelspec": {
   "display_name": "Python 3",
   "language": "python",
   "name": "python3"
  },
  "language_info": {
   "codemirror_mode": {
    "name": "ipython",
    "version": 3
   },
   "file_extension": ".py",
   "mimetype": "text/x-python",
   "name": "python",
   "nbconvert_exporter": "python",
   "pygments_lexer": "ipython3",
   "version": "3.7.6"
  }
 },
 "nbformat": 4,
 "nbformat_minor": 4
}
