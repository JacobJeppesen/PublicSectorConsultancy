{
 "cells": [
  {
   "cell_type": "code",
   "execution_count": 2,
   "metadata": {},
   "outputs": [],
   "source": [
    "# used for manipulating directory paths\n",
    "import os\n",
    "\n",
    "# Scientific and vector computation for python\n",
    "import numpy as np\n",
    "np.random.seed(42)  # Set the global random seed to make reproducible experiments (scikit-learn also use this)\n",
    "\n",
    "# Efficient and easy handling of data\n",
    "import pandas as pd\n",
    "\n",
    "# Python plotting library\n",
    "import matplotlib.pyplot as plt\n",
    "\n",
    "# Plotting tool based on matplotlib for fast visualization of data\n",
    "import seaborn as sns\n",
    "\n",
    "# Load function to plot confusion matrices\n",
    "#from utils import plot_confusion_matrix\n",
    " \n",
    "# Machine learning tools\n",
    "from sklearn.datasets import load_digits                     # MNIST dataset\n",
    "from sklearn.preprocessing import StandardScaler             # Feature scaling\n",
    "from sklearn.model_selection import train_test_split         # Split data into train and test set\n",
    "from sklearn.metrics import classification_report            # Summary of classifier performance\n",
    "from sklearn.metrics import confusion_matrix                 # Confusion matrix\n",
    "from sklearn.metrics import accuracy_score\n",
    "\n",
    "# Time training and prediction time\n",
    "from time import time\n",
    "\n",
    "# Tell matplotlib to plot directly in the notebook\n",
    "%matplotlib inline  \n",
    "\n",
    "# Autoreload every time a cell is run\n",
    "%load_ext autoreload\n",
    "%autoreload 2"
   ]
  },
  {
   "cell_type": "code",
   "execution_count": 3,
   "metadata": {},
   "outputs": [],
   "source": [
    "from sklearn.datasets import load_breast_cancer\n",
    "data = load_breast_cancer()\n",
    "X, y = data.data, data.target\n",
    "X_train, X_test, y_train, y_test = train_test_split(X, y, random_state=42)"
   ]
  },
  {
   "cell_type": "code",
   "execution_count": 5,
   "metadata": {},
   "outputs": [
    {
     "data": {
      "text/plain": [
       "ExplainableBoostingClassifier(feature_names=['feature_0001', 'feature_0002',\n",
       "                                             'feature_0003', 'feature_0004',\n",
       "                                             'feature_0005', 'feature_0006',\n",
       "                                             'feature_0007', 'feature_0008',\n",
       "                                             'feature_0009', 'feature_0010',\n",
       "                                             'feature_0011', 'feature_0012',\n",
       "                                             'feature_0013', 'feature_0014',\n",
       "                                             'feature_0015', 'feature_0016',\n",
       "                                             'feature_0017', 'feature_0018',\n",
       "                                             'feature_0019', 'feature_0020',\n",
       "                                             'feat...\n",
       "                                             'continuous', 'continuous',\n",
       "                                             'continuous', 'continuous',\n",
       "                                             'continuous', 'continuous',\n",
       "                                             'continuous', 'continuous',\n",
       "                                             'continuous', 'continuous',\n",
       "                                             'continuous', 'continuous',\n",
       "                                             'continuous', 'continuous',\n",
       "                                             'continuous', 'continuous',\n",
       "                                             'continuous', 'continuous',\n",
       "                                             'continuous', 'continuous',\n",
       "                                             'continuous', 'continuous',\n",
       "                                             'continuous', 'continuous',\n",
       "                                             'continuous', 'continuous',\n",
       "                                             'continuous', 'continuous', ...])"
      ]
     },
     "execution_count": 5,
     "metadata": {},
     "output_type": "execute_result"
    }
   ],
   "source": [
    "from interpret.glassbox import ExplainableBoostingClassifier\n",
    "\n",
    "ebm = ExplainableBoostingClassifier()\n",
    "ebm.fit(X_train, y_train)"
   ]
  },
  {
   "cell_type": "code",
   "execution_count": 6,
   "metadata": {},
   "outputs": [
    {
     "data": {
      "text/html": [
       "<!-- http://127.0.0.1:7001/139812074273712/ -->\n",
       "<iframe src=\"http://127.0.0.1:7001/139812074273712/\" width=100% height=800 frameBorder=\"0\"></iframe>"
      ]
     },
     "metadata": {},
     "output_type": "display_data"
    }
   ],
   "source": [
    "from interpret import show\n",
    "\n",
    "ebm_global = ebm.explain_global()\n",
    "show(ebm_global)"
   ]
  },
  {
   "cell_type": "code",
   "execution_count": 7,
   "metadata": {},
   "outputs": [
    {
     "data": {
      "text/html": [
       "<!-- http://127.0.0.1:7001/139811339490400/ -->\n",
       "<iframe src=\"http://127.0.0.1:7001/139811339490400/\" width=100% height=800 frameBorder=\"0\"></iframe>"
      ]
     },
     "metadata": {},
     "output_type": "display_data"
    }
   ],
   "source": [
    "ebm_local = ebm.explain_local(X_test, y_test)\n",
    "show(ebm_local)"
   ]
  },
  {
   "cell_type": "code",
   "execution_count": null,
   "metadata": {},
   "outputs": [],
   "source": []
  }
 ],
 "metadata": {
  "kernelspec": {
   "display_name": "Python 3",
   "language": "python",
   "name": "python3"
  },
  "language_info": {
   "codemirror_mode": {
    "name": "ipython",
    "version": 3
   },
   "file_extension": ".py",
   "mimetype": "text/x-python",
   "name": "python",
   "nbconvert_exporter": "python",
   "pygments_lexer": "ipython3",
   "version": "3.8.5"
  }
 },
 "nbformat": 4,
 "nbformat_minor": 4
}
