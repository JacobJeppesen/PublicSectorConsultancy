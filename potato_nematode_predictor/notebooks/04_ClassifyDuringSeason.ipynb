{
 "cells": [
  {
   "cell_type": "code",
   "execution_count": 1,
   "metadata": {},
   "outputs": [
    {
     "name": "stderr",
     "output_type": "stream",
     "text": [
      "/opt/conda/lib/python3.7/site-packages/ipykernel_launcher.py:7: TqdmExperimentalWarning: Using `tqdm.autonotebook.tqdm` in notebook mode. Use `tqdm.tqdm` instead to force console mode (e.g. in jupyter console)\n",
      "  import sys\n"
     ]
    }
   ],
   "source": [
    "import numpy as np\n",
    "import pandas as pd\n",
    "import xarray as xr\n",
    "import seaborn as sns\n",
    "\n",
    "from pathlib import Path\n",
    "from tqdm.autonotebook import tqdm\n",
    "from sklearn.model_selection import train_test_split         # Split data into train and test set\n",
    "\n",
    "from utils import evaluate_classifier, get_sklearn_df \n",
    "\n",
    "# Automatically prints execution time for the individual cells\n",
    "%load_ext autotime\n",
    "\n",
    "# Automatically reloads functions defined in external files\n",
    "%load_ext autoreload\n",
    "%autoreload 2\n",
    "\n",
    "# Set xarray to use html as display_style\n",
    "xr.set_options(display_style=\"html\")\n",
    "\n",
    "# Tell matplotlib to plot directly in the notebook\n",
    "%matplotlib inline  \n",
    "\n",
    "# The path to the project (so absoute file paths can be used throughout the notebook)\n",
    "PROJ_PATH = Path.cwd().parent\n",
    "\n",
    "# Mapping dict\n",
    "mapping_dict_crop_types = {\n",
    "    'Kartofler, stivelses-': 'Potato',\n",
    "    'Kartofler, lægge- (egen opformering)': 'Potato',\n",
    "    'Kartofler, andre': 'Potato',\n",
    "    'Kartofler, spise-': 'Potato',\n",
    "    'Kartofler, lægge- (certificerede)': 'Potato',\n",
    "    'Vårbyg': 'Barley',\n",
    "    'Vinterbyg': 'Barley',\n",
    "    'Grønkorn af vårbyg': 'Barley',\n",
    "    'Vårbyg, helsæd': 'Barley',\n",
    "    'Vinterhvede': 'Wheat',\n",
    "    'Vårhvede': 'Wheat',\n",
    "    'Vinterhybridrug': 'Rye',\n",
    "    'Vårhavre': 'Oat',\n",
    "    'Silomajs': 'Maize',\n",
    "    'Majs til modenhed': 'Maize',\n",
    "    'Vinterraps': 'Rapeseed',\n",
    "    'Sukkerroer til fabrik': 'Sugarbeet',\n",
    "    'Permanent græs, normalt udbytte': 'Grass',\n",
    "    'Skovdrift, alm.': 'Forest',\n",
    "    'Juletræer og pyntegrønt på landbrugsjord': 'Forest'\n",
    "}\n",
    "\n",
    "# Set seed for random generators\n",
    "RANDOM_SEED = 42"
   ]
  },
  {
   "cell_type": "code",
   "execution_count": 2,
   "metadata": {},
   "outputs": [
    {
     "data": {
      "text/html": [
       "<div><svg style=\"position: absolute; width: 0; height: 0; overflow: hidden\">\n",
       "<defs>\n",
       "<symbol id=\"icon-database\" viewBox=\"0 0 32 32\">\n",
       "<title>Show/Hide data repr</title>\n",
       "<path d=\"M16 0c-8.837 0-16 2.239-16 5v4c0 2.761 7.163 5 16 5s16-2.239 16-5v-4c0-2.761-7.163-5-16-5z\"></path>\n",
       "<path d=\"M16 17c-8.837 0-16-2.239-16-5v6c0 2.761 7.163 5 16 5s16-2.239 16-5v-6c0 2.761-7.163 5-16 5z\"></path>\n",
       "<path d=\"M16 26c-8.837 0-16-2.239-16-5v6c0 2.761 7.163 5 16 5s16-2.239 16-5v-6c0 2.761-7.163 5-16 5z\"></path>\n",
       "</symbol>\n",
       "<symbol id=\"icon-file-text2\" viewBox=\"0 0 32 32\">\n",
       "<title>Show/Hide attributes</title>\n",
       "<path d=\"M28.681 7.159c-0.694-0.947-1.662-2.053-2.724-3.116s-2.169-2.030-3.116-2.724c-1.612-1.182-2.393-1.319-2.841-1.319h-15.5c-1.378 0-2.5 1.121-2.5 2.5v27c0 1.378 1.122 2.5 2.5 2.5h23c1.378 0 2.5-1.122 2.5-2.5v-19.5c0-0.448-0.137-1.23-1.319-2.841zM24.543 5.457c0.959 0.959 1.712 1.825 2.268 2.543h-4.811v-4.811c0.718 0.556 1.584 1.309 2.543 2.268zM28 29.5c0 0.271-0.229 0.5-0.5 0.5h-23c-0.271 0-0.5-0.229-0.5-0.5v-27c0-0.271 0.229-0.5 0.5-0.5 0 0 15.499-0 15.5 0v7c0 0.552 0.448 1 1 1h7v19.5z\"></path>\n",
       "<path d=\"M23 26h-14c-0.552 0-1-0.448-1-1s0.448-1 1-1h14c0.552 0 1 0.448 1 1s-0.448 1-1 1z\"></path>\n",
       "<path d=\"M23 22h-14c-0.552 0-1-0.448-1-1s0.448-1 1-1h14c0.552 0 1 0.448 1 1s-0.448 1-1 1z\"></path>\n",
       "<path d=\"M23 18h-14c-0.552 0-1-0.448-1-1s0.448-1 1-1h14c0.552 0 1 0.448 1 1s-0.448 1-1 1z\"></path>\n",
       "</symbol>\n",
       "</defs>\n",
       "</svg>\n",
       "<style>/* CSS stylesheet for displaying xarray objects in jupyterlab.\n",
       " *\n",
       " */\n",
       "\n",
       ":root {\n",
       "  --xr-font-color0: var(--jp-content-font-color0, rgba(0, 0, 0, 1));\n",
       "  --xr-font-color2: var(--jp-content-font-color2, rgba(0, 0, 0, 0.54));\n",
       "  --xr-font-color3: var(--jp-content-font-color3, rgba(0, 0, 0, 0.38));\n",
       "  --xr-border-color: var(--jp-border-color2, #e0e0e0);\n",
       "  --xr-disabled-color: var(--jp-layout-color3, #bdbdbd);\n",
       "  --xr-background-color: var(--jp-layout-color0, white);\n",
       "  --xr-background-color-row-even: var(--jp-layout-color1, white);\n",
       "  --xr-background-color-row-odd: var(--jp-layout-color2, #eeeeee);\n",
       "}\n",
       "\n",
       ".xr-wrap {\n",
       "  min-width: 300px;\n",
       "  max-width: 700px;\n",
       "}\n",
       "\n",
       ".xr-header {\n",
       "  padding-top: 6px;\n",
       "  padding-bottom: 6px;\n",
       "  margin-bottom: 4px;\n",
       "  border-bottom: solid 1px var(--xr-border-color);\n",
       "}\n",
       "\n",
       ".xr-header > div,\n",
       ".xr-header > ul {\n",
       "  display: inline;\n",
       "  margin-top: 0;\n",
       "  margin-bottom: 0;\n",
       "}\n",
       "\n",
       ".xr-obj-type,\n",
       ".xr-array-name {\n",
       "  margin-left: 2px;\n",
       "  margin-right: 10px;\n",
       "}\n",
       "\n",
       ".xr-obj-type {\n",
       "  color: var(--xr-font-color2);\n",
       "}\n",
       "\n",
       ".xr-sections {\n",
       "  padding-left: 0 !important;\n",
       "  display: grid;\n",
       "  grid-template-columns: 150px auto auto 1fr 20px 20px;\n",
       "}\n",
       "\n",
       ".xr-section-item {\n",
       "  display: contents;\n",
       "}\n",
       "\n",
       ".xr-section-item input {\n",
       "  display: none;\n",
       "}\n",
       "\n",
       ".xr-section-item input + label {\n",
       "  color: var(--xr-disabled-color);\n",
       "}\n",
       "\n",
       ".xr-section-item input:enabled + label {\n",
       "  cursor: pointer;\n",
       "  color: var(--xr-font-color2);\n",
       "}\n",
       "\n",
       ".xr-section-item input:enabled + label:hover {\n",
       "  color: var(--xr-font-color0);\n",
       "}\n",
       "\n",
       ".xr-section-summary {\n",
       "  grid-column: 1;\n",
       "  color: var(--xr-font-color2);\n",
       "  font-weight: 500;\n",
       "}\n",
       "\n",
       ".xr-section-summary > span {\n",
       "  display: inline-block;\n",
       "  padding-left: 0.5em;\n",
       "}\n",
       "\n",
       ".xr-section-summary-in:disabled + label {\n",
       "  color: var(--xr-font-color2);\n",
       "}\n",
       "\n",
       ".xr-section-summary-in + label:before {\n",
       "  display: inline-block;\n",
       "  content: '►';\n",
       "  font-size: 11px;\n",
       "  width: 15px;\n",
       "  text-align: center;\n",
       "}\n",
       "\n",
       ".xr-section-summary-in:disabled + label:before {\n",
       "  color: var(--xr-disabled-color);\n",
       "}\n",
       "\n",
       ".xr-section-summary-in:checked + label:before {\n",
       "  content: '▼';\n",
       "}\n",
       "\n",
       ".xr-section-summary-in:checked + label > span {\n",
       "  display: none;\n",
       "}\n",
       "\n",
       ".xr-section-summary,\n",
       ".xr-section-inline-details {\n",
       "  padding-top: 4px;\n",
       "  padding-bottom: 4px;\n",
       "}\n",
       "\n",
       ".xr-section-inline-details {\n",
       "  grid-column: 2 / -1;\n",
       "}\n",
       "\n",
       ".xr-section-details {\n",
       "  display: none;\n",
       "  grid-column: 1 / -1;\n",
       "  margin-bottom: 5px;\n",
       "}\n",
       "\n",
       ".xr-section-summary-in:checked ~ .xr-section-details {\n",
       "  display: contents;\n",
       "}\n",
       "\n",
       ".xr-array-wrap {\n",
       "  grid-column: 1 / -1;\n",
       "  display: grid;\n",
       "  grid-template-columns: 20px auto;\n",
       "}\n",
       "\n",
       ".xr-array-wrap > label {\n",
       "  grid-column: 1;\n",
       "  vertical-align: top;\n",
       "}\n",
       "\n",
       ".xr-preview {\n",
       "  color: var(--xr-font-color3);\n",
       "}\n",
       "\n",
       ".xr-array-preview,\n",
       ".xr-array-data {\n",
       "  padding: 0 5px !important;\n",
       "  grid-column: 2;\n",
       "}\n",
       "\n",
       ".xr-array-data,\n",
       ".xr-array-in:checked ~ .xr-array-preview {\n",
       "  display: none;\n",
       "}\n",
       "\n",
       ".xr-array-in:checked ~ .xr-array-data,\n",
       ".xr-array-preview {\n",
       "  display: inline-block;\n",
       "}\n",
       "\n",
       ".xr-dim-list {\n",
       "  display: inline-block !important;\n",
       "  list-style: none;\n",
       "  padding: 0 !important;\n",
       "  margin: 0;\n",
       "}\n",
       "\n",
       ".xr-dim-list li {\n",
       "  display: inline-block;\n",
       "  padding: 0;\n",
       "  margin: 0;\n",
       "}\n",
       "\n",
       ".xr-dim-list:before {\n",
       "  content: '(';\n",
       "}\n",
       "\n",
       ".xr-dim-list:after {\n",
       "  content: ')';\n",
       "}\n",
       "\n",
       ".xr-dim-list li:not(:last-child):after {\n",
       "  content: ',';\n",
       "  padding-right: 5px;\n",
       "}\n",
       "\n",
       ".xr-has-index {\n",
       "  font-weight: bold;\n",
       "}\n",
       "\n",
       ".xr-var-list,\n",
       ".xr-var-item {\n",
       "  display: contents;\n",
       "}\n",
       "\n",
       ".xr-var-item > div,\n",
       ".xr-var-item label,\n",
       ".xr-var-item > .xr-var-name span {\n",
       "  background-color: var(--xr-background-color-row-even);\n",
       "  margin-bottom: 0;\n",
       "}\n",
       "\n",
       ".xr-var-item > .xr-var-name:hover span {\n",
       "  padding-right: 5px;\n",
       "}\n",
       "\n",
       ".xr-var-list > li:nth-child(odd) > div,\n",
       ".xr-var-list > li:nth-child(odd) > label,\n",
       ".xr-var-list > li:nth-child(odd) > .xr-var-name span {\n",
       "  background-color: var(--xr-background-color-row-odd);\n",
       "}\n",
       "\n",
       ".xr-var-name {\n",
       "  grid-column: 1;\n",
       "}\n",
       "\n",
       ".xr-var-dims {\n",
       "  grid-column: 2;\n",
       "}\n",
       "\n",
       ".xr-var-dtype {\n",
       "  grid-column: 3;\n",
       "  text-align: right;\n",
       "  color: var(--xr-font-color2);\n",
       "}\n",
       "\n",
       ".xr-var-preview {\n",
       "  grid-column: 4;\n",
       "}\n",
       "\n",
       ".xr-var-name,\n",
       ".xr-var-dims,\n",
       ".xr-var-dtype,\n",
       ".xr-preview,\n",
       ".xr-attrs dt {\n",
       "  white-space: nowrap;\n",
       "  overflow: hidden;\n",
       "  text-overflow: ellipsis;\n",
       "  padding-right: 10px;\n",
       "}\n",
       "\n",
       ".xr-var-name:hover,\n",
       ".xr-var-dims:hover,\n",
       ".xr-var-dtype:hover,\n",
       ".xr-attrs dt:hover {\n",
       "  overflow: visible;\n",
       "  width: auto;\n",
       "  z-index: 1;\n",
       "}\n",
       "\n",
       ".xr-var-attrs,\n",
       ".xr-var-data {\n",
       "  display: none;\n",
       "  background-color: var(--xr-background-color) !important;\n",
       "  padding-bottom: 5px !important;\n",
       "}\n",
       "\n",
       ".xr-var-attrs-in:checked ~ .xr-var-attrs,\n",
       ".xr-var-data-in:checked ~ .xr-var-data {\n",
       "  display: block;\n",
       "}\n",
       "\n",
       ".xr-var-data > table {\n",
       "  float: right;\n",
       "}\n",
       "\n",
       ".xr-var-name span,\n",
       ".xr-var-data,\n",
       ".xr-attrs {\n",
       "  padding-left: 25px !important;\n",
       "}\n",
       "\n",
       ".xr-attrs,\n",
       ".xr-var-attrs,\n",
       ".xr-var-data {\n",
       "  grid-column: 1 / -1;\n",
       "}\n",
       "\n",
       "dl.xr-attrs {\n",
       "  padding: 0;\n",
       "  margin: 0;\n",
       "  display: grid;\n",
       "  grid-template-columns: 125px auto;\n",
       "}\n",
       "\n",
       ".xr-attrs dt, dd {\n",
       "  padding: 0;\n",
       "  margin: 0;\n",
       "  float: left;\n",
       "  padding-right: 10px;\n",
       "  width: auto;\n",
       "}\n",
       "\n",
       ".xr-attrs dt {\n",
       "  font-weight: normal;\n",
       "  grid-column: 1;\n",
       "}\n",
       "\n",
       ".xr-attrs dt:hover span {\n",
       "  display: inline-block;\n",
       "  background: var(--xr-background-color);\n",
       "  padding-right: 10px;\n",
       "}\n",
       "\n",
       ".xr-attrs dd {\n",
       "  grid-column: 2;\n",
       "  white-space: pre-wrap;\n",
       "  word-break: break-all;\n",
       "}\n",
       "\n",
       ".xr-icon-database,\n",
       ".xr-icon-file-text2 {\n",
       "  display: inline-block;\n",
       "  vertical-align: middle;\n",
       "  width: 1em;\n",
       "  height: 1.5em !important;\n",
       "  stroke-width: 0;\n",
       "  stroke: currentColor;\n",
       "  fill: currentColor;\n",
       "}\n",
       "</style><div class='xr-wrap'><div class='xr-header'><div class='xr-obj-type'>xarray.Dataset</div></div><ul class='xr-sections'><li class='xr-section-item'><input id='section-667f0d2e-4a19-4a71-a1d2-ac3ced950035' class='xr-section-summary-in' type='checkbox' disabled ><label for='section-667f0d2e-4a19-4a71-a1d2-ac3ced950035' class='xr-section-summary'  title='Expand/collapse section'>Dimensions:</label><div class='xr-section-inline-details'><ul class='xr-dim-list'><li><span class='xr-has-index'>date</span>: 77</li><li><span class='xr-has-index'>field_id</span>: 67312</li><li><span class='xr-has-index'>polarization</span>: 3</li></ul></div><div class='xr-section-details'></div></li><li class='xr-section-item'><input id='section-0ae068ae-80fc-43dd-9e66-e48d5469526c' class='xr-section-summary-in' type='checkbox'  checked><label for='section-0ae068ae-80fc-43dd-9e66-e48d5469526c' class='xr-section-summary' >Coordinates: <span>(3)</span></label><div class='xr-section-inline-details'></div><div class='xr-section-details'><ul class='xr-var-list'><li class='xr-var-item'><div class='xr-var-name'><span class='xr-has-index'>date</span></div><div class='xr-var-dims'>(date)</div><div class='xr-var-dtype'>datetime64[ns]</div><div class='xr-var-preview xr-preview'>2018-07-08 ... 2019-10-31</div><input id='attrs-41a27436-5cb3-4347-a69d-efbb7f58b6ed' class='xr-var-attrs-in' type='checkbox' disabled><label for='attrs-41a27436-5cb3-4347-a69d-efbb7f58b6ed' title='Show/Hide attributes'><svg class='icon xr-icon-file-text2'><use xlink:href='#icon-file-text2'></use></svg></label><input id='data-bbbe41d2-4c54-48c8-9c69-6d9dd99d8c44' class='xr-var-data-in' type='checkbox'><label for='data-bbbe41d2-4c54-48c8-9c69-6d9dd99d8c44' title='Show/Hide data repr'><svg class='icon xr-icon-database'><use xlink:href='#icon-database'></use></svg></label><div class='xr-var-attrs'><dl class='xr-attrs'></dl></div><pre class='xr-var-data'>array([&#x27;2018-07-08T00:00:00.000000000&#x27;, &#x27;2018-07-14T00:00:00.000000000&#x27;,\n",
       "       &#x27;2018-07-20T00:00:00.000000000&#x27;, &#x27;2018-07-26T00:00:00.000000000&#x27;,\n",
       "       &#x27;2018-08-01T00:00:00.000000000&#x27;, &#x27;2018-08-07T00:00:00.000000000&#x27;,\n",
       "       &#x27;2018-08-13T00:00:00.000000000&#x27;, &#x27;2018-08-19T00:00:00.000000000&#x27;,\n",
       "       &#x27;2018-08-25T00:00:00.000000000&#x27;, &#x27;2018-08-31T00:00:00.000000000&#x27;,\n",
       "       &#x27;2018-09-12T00:00:00.000000000&#x27;, &#x27;2018-09-18T00:00:00.000000000&#x27;,\n",
       "       &#x27;2018-09-24T00:00:00.000000000&#x27;, &#x27;2018-09-30T00:00:00.000000000&#x27;,\n",
       "       &#x27;2018-10-06T00:00:00.000000000&#x27;, &#x27;2018-10-12T00:00:00.000000000&#x27;,\n",
       "       &#x27;2018-10-18T00:00:00.000000000&#x27;, &#x27;2018-10-24T00:00:00.000000000&#x27;,\n",
       "       &#x27;2018-10-30T00:00:00.000000000&#x27;, &#x27;2018-11-05T00:00:00.000000000&#x27;,\n",
       "       &#x27;2018-11-11T00:00:00.000000000&#x27;, &#x27;2018-11-29T00:00:00.000000000&#x27;,\n",
       "       &#x27;2018-12-05T00:00:00.000000000&#x27;, &#x27;2018-12-11T00:00:00.000000000&#x27;,\n",
       "       &#x27;2018-12-17T00:00:00.000000000&#x27;, &#x27;2018-12-23T00:00:00.000000000&#x27;,\n",
       "       &#x27;2018-12-29T00:00:00.000000000&#x27;, &#x27;2019-01-04T00:00:00.000000000&#x27;,\n",
       "       &#x27;2019-01-10T00:00:00.000000000&#x27;, &#x27;2019-01-16T00:00:00.000000000&#x27;,\n",
       "       &#x27;2019-01-22T00:00:00.000000000&#x27;, &#x27;2019-01-28T00:00:00.000000000&#x27;,\n",
       "       &#x27;2019-02-03T00:00:00.000000000&#x27;, &#x27;2019-02-09T00:00:00.000000000&#x27;,\n",
       "       &#x27;2019-02-21T00:00:00.000000000&#x27;, &#x27;2019-02-27T00:00:00.000000000&#x27;,\n",
       "       &#x27;2019-03-05T00:00:00.000000000&#x27;, &#x27;2019-03-11T00:00:00.000000000&#x27;,\n",
       "       &#x27;2019-03-17T00:00:00.000000000&#x27;, &#x27;2019-03-23T00:00:00.000000000&#x27;,\n",
       "       &#x27;2019-03-29T00:00:00.000000000&#x27;, &#x27;2019-04-04T00:00:00.000000000&#x27;,\n",
       "       &#x27;2019-04-10T00:00:00.000000000&#x27;, &#x27;2019-04-16T00:00:00.000000000&#x27;,\n",
       "       &#x27;2019-04-22T00:00:00.000000000&#x27;, &#x27;2019-04-28T00:00:00.000000000&#x27;,\n",
       "       &#x27;2019-05-04T00:00:00.000000000&#x27;, &#x27;2019-05-10T00:00:00.000000000&#x27;,\n",
       "       &#x27;2019-05-16T00:00:00.000000000&#x27;, &#x27;2019-05-22T00:00:00.000000000&#x27;,\n",
       "       &#x27;2019-05-28T00:00:00.000000000&#x27;, &#x27;2019-06-03T00:00:00.000000000&#x27;,\n",
       "       &#x27;2019-06-09T00:00:00.000000000&#x27;, &#x27;2019-06-15T00:00:00.000000000&#x27;,\n",
       "       &#x27;2019-06-21T00:00:00.000000000&#x27;, &#x27;2019-06-27T00:00:00.000000000&#x27;,\n",
       "       &#x27;2019-07-03T00:00:00.000000000&#x27;, &#x27;2019-07-09T00:00:00.000000000&#x27;,\n",
       "       &#x27;2019-07-15T00:00:00.000000000&#x27;, &#x27;2019-07-21T00:00:00.000000000&#x27;,\n",
       "       &#x27;2019-07-27T00:00:00.000000000&#x27;, &#x27;2019-08-02T00:00:00.000000000&#x27;,\n",
       "       &#x27;2019-08-08T00:00:00.000000000&#x27;, &#x27;2019-08-14T00:00:00.000000000&#x27;,\n",
       "       &#x27;2019-08-20T00:00:00.000000000&#x27;, &#x27;2019-08-26T00:00:00.000000000&#x27;,\n",
       "       &#x27;2019-09-01T00:00:00.000000000&#x27;, &#x27;2019-09-07T00:00:00.000000000&#x27;,\n",
       "       &#x27;2019-09-13T00:00:00.000000000&#x27;, &#x27;2019-09-19T00:00:00.000000000&#x27;,\n",
       "       &#x27;2019-09-25T00:00:00.000000000&#x27;, &#x27;2019-10-01T00:00:00.000000000&#x27;,\n",
       "       &#x27;2019-10-07T00:00:00.000000000&#x27;, &#x27;2019-10-13T00:00:00.000000000&#x27;,\n",
       "       &#x27;2019-10-19T00:00:00.000000000&#x27;, &#x27;2019-10-25T00:00:00.000000000&#x27;,\n",
       "       &#x27;2019-10-31T00:00:00.000000000&#x27;], dtype=&#x27;datetime64[ns]&#x27;)</pre></li><li class='xr-var-item'><div class='xr-var-name'><span class='xr-has-index'>field_id</span></div><div class='xr-var-dims'>(field_id)</div><div class='xr-var-dtype'>int32</div><div class='xr-var-preview xr-preview'>61853445 61952339 ... 63199619</div><input id='attrs-18349751-5dc5-4e0e-b231-30babaaea3a7' class='xr-var-attrs-in' type='checkbox' disabled><label for='attrs-18349751-5dc5-4e0e-b231-30babaaea3a7' title='Show/Hide attributes'><svg class='icon xr-icon-file-text2'><use xlink:href='#icon-file-text2'></use></svg></label><input id='data-d73055b1-0173-426c-bc72-3a775d83afec' class='xr-var-data-in' type='checkbox'><label for='data-d73055b1-0173-426c-bc72-3a775d83afec' title='Show/Hide data repr'><svg class='icon xr-icon-database'><use xlink:href='#icon-database'></use></svg></label><div class='xr-var-attrs'><dl class='xr-attrs'></dl></div><pre class='xr-var-data'>array([61853445, 61952339, 61952436, ..., 62174897, 62131272, 63199619],\n",
       "      dtype=int32)</pre></li><li class='xr-var-item'><div class='xr-var-name'><span class='xr-has-index'>polarization</span></div><div class='xr-var-dims'>(polarization)</div><div class='xr-var-dtype'>object</div><div class='xr-var-preview xr-preview'>&#x27;VH&#x27; &#x27;VV&#x27; &#x27;VV-VH&#x27;</div><input id='attrs-4961501a-88d8-4e8d-9df5-10c62b17ffff' class='xr-var-attrs-in' type='checkbox' disabled><label for='attrs-4961501a-88d8-4e8d-9df5-10c62b17ffff' title='Show/Hide attributes'><svg class='icon xr-icon-file-text2'><use xlink:href='#icon-file-text2'></use></svg></label><input id='data-c2eb7ae9-a8e9-4a3b-8e24-bc78f39a996f' class='xr-var-data-in' type='checkbox'><label for='data-c2eb7ae9-a8e9-4a3b-8e24-bc78f39a996f' title='Show/Hide data repr'><svg class='icon xr-icon-database'><use xlink:href='#icon-database'></use></svg></label><div class='xr-var-attrs'><dl class='xr-attrs'></dl></div><pre class='xr-var-data'>array([&#x27;VH&#x27;, &#x27;VV&#x27;, &#x27;VV-VH&#x27;], dtype=object)</pre></li></ul></div></li><li class='xr-section-item'><input id='section-ed4e5e99-61a3-4071-80cc-e1a5f4a3bb46' class='xr-section-summary-in' type='checkbox'  ><label for='section-ed4e5e99-61a3-4071-80cc-e1a5f4a3bb46' class='xr-section-summary' >Data variables: <span>(16)</span></label><div class='xr-section-inline-details'></div><div class='xr-section-details'><ul class='xr-var-list'><li class='xr-var-item'><div class='xr-var-name'><span>afgkode</span></div><div class='xr-var-dims'>(field_id)</div><div class='xr-var-dtype'>int16</div><div class='xr-var-preview xr-preview'>...</div><input id='attrs-613518f8-2994-4e66-9846-73531da97bc6' class='xr-var-attrs-in' type='checkbox' disabled><label for='attrs-613518f8-2994-4e66-9846-73531da97bc6' title='Show/Hide attributes'><svg class='icon xr-icon-file-text2'><use xlink:href='#icon-file-text2'></use></svg></label><input id='data-b37d3f40-b80a-401f-9282-daf55f90fc71' class='xr-var-data-in' type='checkbox'><label for='data-b37d3f40-b80a-401f-9282-daf55f90fc71' title='Show/Hide data repr'><svg class='icon xr-icon-database'><use xlink:href='#icon-database'></use></svg></label><div class='xr-var-attrs'><dl class='xr-attrs'></dl></div><pre class='xr-var-data'>array([151, 151, 151, ..., 252, 252, 252], dtype=int16)</pre></li><li class='xr-var-item'><div class='xr-var-name'><span>afgroede</span></div><div class='xr-var-dims'>(field_id)</div><div class='xr-var-dtype'>object</div><div class='xr-var-preview xr-preview'>...</div><input id='attrs-9168d890-4f8d-4046-b65f-999139652ffe' class='xr-var-attrs-in' type='checkbox' disabled><label for='attrs-9168d890-4f8d-4046-b65f-999139652ffe' title='Show/Hide attributes'><svg class='icon xr-icon-file-text2'><use xlink:href='#icon-file-text2'></use></svg></label><input id='data-b45e9eb5-8f3c-4e35-87ae-53d2501b1ffe' class='xr-var-data-in' type='checkbox'><label for='data-b45e9eb5-8f3c-4e35-87ae-53d2501b1ffe' title='Show/Hide data repr'><svg class='icon xr-icon-database'><use xlink:href='#icon-database'></use></svg></label><div class='xr-var-attrs'><dl class='xr-attrs'></dl></div><pre class='xr-var-data'>array([&#x27;Kartofler, stivelses-&#x27;, &#x27;Kartofler, stivelses-&#x27;,\n",
       "       &#x27;Kartofler, stivelses-&#x27;, ..., &#x27;Permanent græs, normalt udbytte&#x27;,\n",
       "       &#x27;Permanent græs, normalt udbytte&#x27;, &#x27;Permanent græs, normalt udbytte&#x27;],\n",
       "      dtype=object)</pre></li><li class='xr-var-item'><div class='xr-var-name'><span>cvr</span></div><div class='xr-var-dims'>(field_id)</div><div class='xr-var-dtype'>object</div><div class='xr-var-preview xr-preview'>...</div><input id='attrs-5d7ae9cd-9dfd-47e5-b33b-f8714e59acea' class='xr-var-attrs-in' type='checkbox' disabled><label for='attrs-5d7ae9cd-9dfd-47e5-b33b-f8714e59acea' title='Show/Hide attributes'><svg class='icon xr-icon-file-text2'><use xlink:href='#icon-file-text2'></use></svg></label><input id='data-950d4ee1-3352-4d8f-853e-2e046862a269' class='xr-var-data-in' type='checkbox'><label for='data-950d4ee1-3352-4d8f-853e-2e046862a269' title='Show/Hide data repr'><svg class='icon xr-icon-database'><use xlink:href='#icon-database'></use></svg></label><div class='xr-var-attrs'><dl class='xr-attrs'></dl></div><pre class='xr-var-data'>array([&#x27;11770835&#x27;, &#x27;28496257&#x27;, &#x27;28496257&#x27;, ..., &#x27;11163947&#x27;, &#x27;20988975&#x27;,\n",
       "       &#x27;25258533&#x27;], dtype=object)</pre></li><li class='xr-var-item'><div class='xr-var-name'><span>gb</span></div><div class='xr-var-dims'>(field_id)</div><div class='xr-var-dtype'>float32</div><div class='xr-var-preview xr-preview'>...</div><input id='attrs-19e83fed-69a4-4142-b244-6f729b5810ff' class='xr-var-attrs-in' type='checkbox' disabled><label for='attrs-19e83fed-69a4-4142-b244-6f729b5810ff' title='Show/Hide attributes'><svg class='icon xr-icon-file-text2'><use xlink:href='#icon-file-text2'></use></svg></label><input id='data-b3ddcf98-5634-480b-a142-d56e4318ab0b' class='xr-var-data-in' type='checkbox'><label for='data-b3ddcf98-5634-480b-a142-d56e4318ab0b' title='Show/Hide data repr'><svg class='icon xr-icon-database'><use xlink:href='#icon-database'></use></svg></label><div class='xr-var-attrs'><dl class='xr-attrs'></dl></div><pre class='xr-var-data'>array([1., 1., 1., ..., 1., 1., 1.], dtype=float32)</pre></li><li class='xr-var-item'><div class='xr-var-name'><span>gbanmeldt</span></div><div class='xr-var-dims'>(field_id)</div><div class='xr-var-dtype'>float32</div><div class='xr-var-preview xr-preview'>...</div><input id='attrs-d0d6b1c3-d1e2-4264-8cb3-fa96834a2291' class='xr-var-attrs-in' type='checkbox' disabled><label for='attrs-d0d6b1c3-d1e2-4264-8cb3-fa96834a2291' title='Show/Hide attributes'><svg class='icon xr-icon-file-text2'><use xlink:href='#icon-file-text2'></use></svg></label><input id='data-bcc983e8-521d-418c-9093-c44fd5e4785f' class='xr-var-data-in' type='checkbox'><label for='data-bcc983e8-521d-418c-9093-c44fd5e4785f' title='Show/Hide data repr'><svg class='icon xr-icon-database'><use xlink:href='#icon-database'></use></svg></label><div class='xr-var-attrs'><dl class='xr-attrs'></dl></div><pre class='xr-var-data'>array([1.83, 6.02, 1.84, ..., 1.88, 2.54, 3.29], dtype=float32)</pre></li><li class='xr-var-item'><div class='xr-var-name'><span>imk_areal</span></div><div class='xr-var-dims'>(field_id)</div><div class='xr-var-dtype'>float32</div><div class='xr-var-preview xr-preview'>...</div><input id='attrs-5212de1a-e4bf-4e17-bd56-3670526acdfa' class='xr-var-attrs-in' type='checkbox' disabled><label for='attrs-5212de1a-e4bf-4e17-bd56-3670526acdfa' title='Show/Hide attributes'><svg class='icon xr-icon-file-text2'><use xlink:href='#icon-file-text2'></use></svg></label><input id='data-1f9cb26b-ad81-489c-a0f1-2b33cc7e4be2' class='xr-var-data-in' type='checkbox'><label for='data-1f9cb26b-ad81-489c-a0f1-2b33cc7e4be2' title='Show/Hide data repr'><svg class='icon xr-icon-database'><use xlink:href='#icon-database'></use></svg></label><div class='xr-var-attrs'><dl class='xr-attrs'></dl></div><pre class='xr-var-data'>array([1.83, 6.02, 1.84, ..., 1.88, 2.54, 3.29], dtype=float32)</pre></li><li class='xr-var-item'><div class='xr-var-name'><span>journalnr</span></div><div class='xr-var-dims'>(field_id)</div><div class='xr-var-dtype'>object</div><div class='xr-var-preview xr-preview'>...</div><input id='attrs-52c3b068-f640-4b60-80e5-568ebd6bbc1a' class='xr-var-attrs-in' type='checkbox' disabled><label for='attrs-52c3b068-f640-4b60-80e5-568ebd6bbc1a' title='Show/Hide attributes'><svg class='icon xr-icon-file-text2'><use xlink:href='#icon-file-text2'></use></svg></label><input id='data-aeb87b3e-7d0a-437a-8d17-86afa9385741' class='xr-var-data-in' type='checkbox'><label for='data-aeb87b3e-7d0a-437a-8d17-86afa9385741' title='Show/Hide data repr'><svg class='icon xr-icon-database'><use xlink:href='#icon-database'></use></svg></label><div class='xr-var-attrs'><dl class='xr-attrs'></dl></div><pre class='xr-var-data'>array([&#x27;19-0053272&#x27;, &#x27;19-0017518&#x27;, &#x27;19-0017518&#x27;, ..., &#x27;19-0052591&#x27;,\n",
       "       &#x27;19-0024052&#x27;, &#x27;19-0021400&#x27;], dtype=object)</pre></li><li class='xr-var-item'><div class='xr-var-name'><span>marknr</span></div><div class='xr-var-dims'>(field_id)</div><div class='xr-var-dtype'>object</div><div class='xr-var-preview xr-preview'>...</div><input id='attrs-d37d375a-eb1e-4b38-9165-1a3998bdbe82' class='xr-var-attrs-in' type='checkbox' disabled><label for='attrs-d37d375a-eb1e-4b38-9165-1a3998bdbe82' title='Show/Hide attributes'><svg class='icon xr-icon-file-text2'><use xlink:href='#icon-file-text2'></use></svg></label><input id='data-ba1e74da-8f95-4e05-994b-ae8d458d8d83' class='xr-var-data-in' type='checkbox'><label for='data-ba1e74da-8f95-4e05-994b-ae8d458d8d83' title='Show/Hide data repr'><svg class='icon xr-icon-database'><use xlink:href='#icon-database'></use></svg></label><div class='xr-var-attrs'><dl class='xr-attrs'></dl></div><pre class='xr-var-data'>array([&#x27;2-0&#x27;, &#x27;4-0&#x27;, &#x27;6-1&#x27;, ..., &#x27;5&#x27;, &#x27;6-3&#x27;, &#x27;58-0&#x27;], dtype=object)</pre></li><li class='xr-var-item'><div class='xr-var-name'><span>pass_mode</span></div><div class='xr-var-dims'>(date)</div><div class='xr-var-dtype'>object</div><div class='xr-var-preview xr-preview'>...</div><input id='attrs-fe46dc0f-698d-45ae-a01c-7f52ed5f36ba' class='xr-var-attrs-in' type='checkbox' disabled><label for='attrs-fe46dc0f-698d-45ae-a01c-7f52ed5f36ba' title='Show/Hide attributes'><svg class='icon xr-icon-file-text2'><use xlink:href='#icon-file-text2'></use></svg></label><input id='data-5c49c908-0bd6-4f62-abf3-bdd157bf9d39' class='xr-var-data-in' type='checkbox'><label for='data-5c49c908-0bd6-4f62-abf3-bdd157bf9d39' title='Show/Hide data repr'><svg class='icon xr-icon-database'><use xlink:href='#icon-database'></use></svg></label><div class='xr-var-attrs'><dl class='xr-attrs'></dl></div><pre class='xr-var-data'>array([&#x27;DSC&#x27;, &#x27;DSC&#x27;, &#x27;DSC&#x27;, &#x27;DSC&#x27;, &#x27;DSC&#x27;, &#x27;DSC&#x27;, &#x27;DSC&#x27;, &#x27;DSC&#x27;, &#x27;DSC&#x27;, &#x27;DSC&#x27;,\n",
       "       &#x27;DSC&#x27;, &#x27;DSC&#x27;, &#x27;DSC&#x27;, &#x27;DSC&#x27;, &#x27;DSC&#x27;, &#x27;DSC&#x27;, &#x27;DSC&#x27;, &#x27;DSC&#x27;, &#x27;DSC&#x27;, &#x27;DSC&#x27;,\n",
       "       &#x27;DSC&#x27;, &#x27;DSC&#x27;, &#x27;DSC&#x27;, &#x27;DSC&#x27;, &#x27;DSC&#x27;, &#x27;DSC&#x27;, &#x27;DSC&#x27;, &#x27;DSC&#x27;, &#x27;DSC&#x27;, &#x27;DSC&#x27;,\n",
       "       &#x27;DSC&#x27;, &#x27;DSC&#x27;, &#x27;DSC&#x27;, &#x27;DSC&#x27;, &#x27;DSC&#x27;, &#x27;DSC&#x27;, &#x27;DSC&#x27;, &#x27;DSC&#x27;, &#x27;DSC&#x27;, &#x27;DSC&#x27;,\n",
       "       &#x27;DSC&#x27;, &#x27;DSC&#x27;, &#x27;DSC&#x27;, &#x27;DSC&#x27;, &#x27;DSC&#x27;, &#x27;DSC&#x27;, &#x27;DSC&#x27;, &#x27;DSC&#x27;, &#x27;DSC&#x27;, &#x27;DSC&#x27;,\n",
       "       &#x27;DSC&#x27;, &#x27;DSC&#x27;, &#x27;DSC&#x27;, &#x27;DSC&#x27;, &#x27;DSC&#x27;, &#x27;DSC&#x27;, &#x27;DSC&#x27;, &#x27;DSC&#x27;, &#x27;DSC&#x27;, &#x27;DSC&#x27;,\n",
       "       &#x27;DSC&#x27;, &#x27;DSC&#x27;, &#x27;DSC&#x27;, &#x27;DSC&#x27;, &#x27;DSC&#x27;, &#x27;DSC&#x27;, &#x27;DSC&#x27;, &#x27;DSC&#x27;, &#x27;DSC&#x27;, &#x27;DSC&#x27;,\n",
       "       &#x27;DSC&#x27;, &#x27;DSC&#x27;, &#x27;DSC&#x27;, &#x27;DSC&#x27;, &#x27;DSC&#x27;, &#x27;DSC&#x27;, &#x27;DSC&#x27;], dtype=object)</pre></li><li class='xr-var-item'><div class='xr-var-name'><span>relative_orbit</span></div><div class='xr-var-dims'>(date)</div><div class='xr-var-dtype'>int16</div><div class='xr-var-preview xr-preview'>...</div><input id='attrs-1cd41875-f559-4a02-aa8e-48c19a9fe4a7' class='xr-var-attrs-in' type='checkbox' disabled><label for='attrs-1cd41875-f559-4a02-aa8e-48c19a9fe4a7' title='Show/Hide attributes'><svg class='icon xr-icon-file-text2'><use xlink:href='#icon-file-text2'></use></svg></label><input id='data-ed3c5558-468e-49fb-9952-86cbed2ae134' class='xr-var-data-in' type='checkbox'><label for='data-ed3c5558-468e-49fb-9952-86cbed2ae134' title='Show/Hide data repr'><svg class='icon xr-icon-database'><use xlink:href='#icon-database'></use></svg></label><div class='xr-var-attrs'><dl class='xr-attrs'></dl></div><pre class='xr-var-data'>array([139, 139, 139, 139, 139, 139, 139, 139, 139, 139, 139, 139, 139, 139,\n",
       "       139, 139, 139, 139, 139, 139, 139, 139, 139, 139, 139, 139, 139, 139,\n",
       "       139, 139, 139, 139, 139, 139, 139, 139, 139, 139, 139, 139, 139, 139,\n",
       "       139, 139, 139, 139, 139, 139, 139, 139, 139, 139, 139, 139, 139, 139,\n",
       "       139, 139, 139, 139, 139, 139, 139, 139, 139, 139, 139, 139, 139, 139,\n",
       "       139, 139, 139, 139, 139, 139, 139], dtype=int16)</pre></li><li class='xr-var-item'><div class='xr-var-name'><span>satellite</span></div><div class='xr-var-dims'>(date)</div><div class='xr-var-dtype'>object</div><div class='xr-var-preview xr-preview'>...</div><input id='attrs-215448cf-64d6-403d-b6de-aa57b7a034e4' class='xr-var-attrs-in' type='checkbox' disabled><label for='attrs-215448cf-64d6-403d-b6de-aa57b7a034e4' title='Show/Hide attributes'><svg class='icon xr-icon-file-text2'><use xlink:href='#icon-file-text2'></use></svg></label><input id='data-46957240-39dc-4a13-bce4-36f5a51a0043' class='xr-var-data-in' type='checkbox'><label for='data-46957240-39dc-4a13-bce4-36f5a51a0043' title='Show/Hide data repr'><svg class='icon xr-icon-database'><use xlink:href='#icon-database'></use></svg></label><div class='xr-var-attrs'><dl class='xr-attrs'></dl></div><pre class='xr-var-data'>array([&#x27;S1B&#x27;, &#x27;S1A&#x27;, &#x27;S1B&#x27;, &#x27;S1A&#x27;, &#x27;S1B&#x27;, &#x27;S1A&#x27;, &#x27;S1B&#x27;, &#x27;S1A&#x27;, &#x27;S1B&#x27;, &#x27;S1A&#x27;,\n",
       "       &#x27;S1A&#x27;, &#x27;S1B&#x27;, &#x27;S1A&#x27;, &#x27;S1B&#x27;, &#x27;S1A&#x27;, &#x27;S1B&#x27;, &#x27;S1A&#x27;, &#x27;S1B&#x27;, &#x27;S1A&#x27;, &#x27;S1B&#x27;,\n",
       "       &#x27;S1A&#x27;, &#x27;S1B&#x27;, &#x27;S1A&#x27;, &#x27;S1B&#x27;, &#x27;S1A&#x27;, &#x27;S1B&#x27;, &#x27;S1A&#x27;, &#x27;S1B&#x27;, &#x27;S1A&#x27;, &#x27;S1B&#x27;,\n",
       "       &#x27;S1A&#x27;, &#x27;S1B&#x27;, &#x27;S1A&#x27;, &#x27;S1B&#x27;, &#x27;S1B&#x27;, &#x27;S1A&#x27;, &#x27;S1B&#x27;, &#x27;S1A&#x27;, &#x27;S1B&#x27;, &#x27;S1A&#x27;,\n",
       "       &#x27;S1B&#x27;, &#x27;S1A&#x27;, &#x27;S1B&#x27;, &#x27;S1A&#x27;, &#x27;S1B&#x27;, &#x27;S1A&#x27;, &#x27;S1B&#x27;, &#x27;S1A&#x27;, &#x27;S1B&#x27;, &#x27;S1A&#x27;,\n",
       "       &#x27;S1B&#x27;, &#x27;S1A&#x27;, &#x27;S1B&#x27;, &#x27;S1A&#x27;, &#x27;S1B&#x27;, &#x27;S1A&#x27;, &#x27;S1B&#x27;, &#x27;S1A&#x27;, &#x27;S1B&#x27;, &#x27;S1A&#x27;,\n",
       "       &#x27;S1B&#x27;, &#x27;S1A&#x27;, &#x27;S1B&#x27;, &#x27;S1A&#x27;, &#x27;S1B&#x27;, &#x27;S1A&#x27;, &#x27;S1B&#x27;, &#x27;S1A&#x27;, &#x27;S1B&#x27;, &#x27;S1A&#x27;,\n",
       "       &#x27;S1B&#x27;, &#x27;S1A&#x27;, &#x27;S1B&#x27;, &#x27;S1A&#x27;, &#x27;S1B&#x27;, &#x27;S1A&#x27;, &#x27;S1B&#x27;], dtype=object)</pre></li><li class='xr-var-item'><div class='xr-var-name'><span>stats_max</span></div><div class='xr-var-dims'>(field_id, date, polarization)</div><div class='xr-var-dtype'>float32</div><div class='xr-var-preview xr-preview'>...</div><input id='attrs-688a31d3-f232-4860-97a1-b14af787b124' class='xr-var-attrs-in' type='checkbox' disabled><label for='attrs-688a31d3-f232-4860-97a1-b14af787b124' title='Show/Hide attributes'><svg class='icon xr-icon-file-text2'><use xlink:href='#icon-file-text2'></use></svg></label><input id='data-ce3bcf27-0d0d-45b6-a853-4a31bfacf0db' class='xr-var-data-in' type='checkbox'><label for='data-ce3bcf27-0d0d-45b6-a853-4a31bfacf0db' title='Show/Hide data repr'><svg class='icon xr-icon-database'><use xlink:href='#icon-database'></use></svg></label><div class='xr-var-attrs'><dl class='xr-attrs'></dl></div><pre class='xr-var-data'>[15549072 values with dtype=float32]</pre></li><li class='xr-var-item'><div class='xr-var-name'><span>stats_mean</span></div><div class='xr-var-dims'>(field_id, date, polarization)</div><div class='xr-var-dtype'>float32</div><div class='xr-var-preview xr-preview'>...</div><input id='attrs-ec8647ff-107c-45d9-95ca-ab42305caba3' class='xr-var-attrs-in' type='checkbox' disabled><label for='attrs-ec8647ff-107c-45d9-95ca-ab42305caba3' title='Show/Hide attributes'><svg class='icon xr-icon-file-text2'><use xlink:href='#icon-file-text2'></use></svg></label><input id='data-994e9592-7184-4d26-a131-1a9f4cfb85d9' class='xr-var-data-in' type='checkbox'><label for='data-994e9592-7184-4d26-a131-1a9f4cfb85d9' title='Show/Hide data repr'><svg class='icon xr-icon-database'><use xlink:href='#icon-database'></use></svg></label><div class='xr-var-attrs'><dl class='xr-attrs'></dl></div><pre class='xr-var-data'>[15549072 values with dtype=float32]</pre></li><li class='xr-var-item'><div class='xr-var-name'><span>stats_median</span></div><div class='xr-var-dims'>(field_id, date, polarization)</div><div class='xr-var-dtype'>float32</div><div class='xr-var-preview xr-preview'>...</div><input id='attrs-a872b462-c18b-4d14-b1c4-54fedcae4d95' class='xr-var-attrs-in' type='checkbox' disabled><label for='attrs-a872b462-c18b-4d14-b1c4-54fedcae4d95' title='Show/Hide attributes'><svg class='icon xr-icon-file-text2'><use xlink:href='#icon-file-text2'></use></svg></label><input id='data-7d04cb41-c457-4901-89f8-20cf6bccdb82' class='xr-var-data-in' type='checkbox'><label for='data-7d04cb41-c457-4901-89f8-20cf6bccdb82' title='Show/Hide data repr'><svg class='icon xr-icon-database'><use xlink:href='#icon-database'></use></svg></label><div class='xr-var-attrs'><dl class='xr-attrs'></dl></div><pre class='xr-var-data'>[15549072 values with dtype=float32]</pre></li><li class='xr-var-item'><div class='xr-var-name'><span>stats_min</span></div><div class='xr-var-dims'>(field_id, date, polarization)</div><div class='xr-var-dtype'>float32</div><div class='xr-var-preview xr-preview'>...</div><input id='attrs-da9bd78d-6eea-485a-9c90-51ffc2a5dbaf' class='xr-var-attrs-in' type='checkbox' disabled><label for='attrs-da9bd78d-6eea-485a-9c90-51ffc2a5dbaf' title='Show/Hide attributes'><svg class='icon xr-icon-file-text2'><use xlink:href='#icon-file-text2'></use></svg></label><input id='data-b2156246-ca5a-4757-8666-65b6a23d943d' class='xr-var-data-in' type='checkbox'><label for='data-b2156246-ca5a-4757-8666-65b6a23d943d' title='Show/Hide data repr'><svg class='icon xr-icon-database'><use xlink:href='#icon-database'></use></svg></label><div class='xr-var-attrs'><dl class='xr-attrs'></dl></div><pre class='xr-var-data'>[15549072 values with dtype=float32]</pre></li><li class='xr-var-item'><div class='xr-var-name'><span>stats_std</span></div><div class='xr-var-dims'>(field_id, date, polarization)</div><div class='xr-var-dtype'>float32</div><div class='xr-var-preview xr-preview'>...</div><input id='attrs-1fdb53e6-867e-4c69-a528-00afc3783778' class='xr-var-attrs-in' type='checkbox' disabled><label for='attrs-1fdb53e6-867e-4c69-a528-00afc3783778' title='Show/Hide attributes'><svg class='icon xr-icon-file-text2'><use xlink:href='#icon-file-text2'></use></svg></label><input id='data-2a0f1647-c516-41a4-9f9d-a485f5c39558' class='xr-var-data-in' type='checkbox'><label for='data-2a0f1647-c516-41a4-9f9d-a485f5c39558' title='Show/Hide data repr'><svg class='icon xr-icon-database'><use xlink:href='#icon-database'></use></svg></label><div class='xr-var-attrs'><dl class='xr-attrs'></dl></div><pre class='xr-var-data'>[15549072 values with dtype=float32]</pre></li></ul></div></li><li class='xr-section-item'><input id='section-791935c0-eaa2-4b68-be54-1a7f3258a6d8' class='xr-section-summary-in' type='checkbox' disabled ><label for='section-791935c0-eaa2-4b68-be54-1a7f3258a6d8' class='xr-section-summary'  title='Expand/collapse section'>Attributes: <span>(0)</span></label><div class='xr-section-inline-details'></div><div class='xr-section-details'><dl class='xr-attrs'></dl></div></li></ul></div></div>"
      ],
      "text/plain": [
       "<xarray.Dataset>\n",
       "Dimensions:         (date: 77, field_id: 67312, polarization: 3)\n",
       "Coordinates:\n",
       "  * date            (date) datetime64[ns] 2018-07-08 2018-07-14 ... 2019-10-31\n",
       "  * field_id        (field_id) int32 61853445 61952339 ... 62131272 63199619\n",
       "  * polarization    (polarization) object 'VH' 'VV' 'VV-VH'\n",
       "Data variables:\n",
       "    afgkode         (field_id) int16 ...\n",
       "    afgroede        (field_id) object ...\n",
       "    cvr             (field_id) object ...\n",
       "    gb              (field_id) float32 ...\n",
       "    gbanmeldt       (field_id) float32 ...\n",
       "    imk_areal       (field_id) float32 ...\n",
       "    journalnr       (field_id) object ...\n",
       "    marknr          (field_id) object ...\n",
       "    pass_mode       (date) object ...\n",
       "    relative_orbit  (date) int16 ...\n",
       "    satellite       (date) object ...\n",
       "    stats_max       (field_id, date, polarization) float32 ...\n",
       "    stats_mean      (field_id, date, polarization) float32 ...\n",
       "    stats_median    (field_id, date, polarization) float32 ...\n",
       "    stats_min       (field_id, date, polarization) float32 ...\n",
       "    stats_std       (field_id, date, polarization) float32 ..."
      ]
     },
     "execution_count": 2,
     "metadata": {},
     "output_type": "execute_result"
    },
    {
     "name": "stdout",
     "output_type": "stream",
     "text": [
      "time: 199 ms\n"
     ]
    }
   ],
   "source": [
    "netcdf_path = (PROJ_PATH / 'data' / 'processed' / 'FieldPolygons2019_stats').with_suffix('.nc')\n",
    "ds = xr.open_dataset(netcdf_path, engine=\"h5netcdf\")\n",
    "ds  # Remember to close the dataset before the netcdf file can be rewritten in cells above"
   ]
  },
  {
   "cell_type": "code",
   "execution_count": 3,
   "metadata": {},
   "outputs": [
    {
     "name": "stdout",
     "output_type": "stream",
     "text": [
      "time: 19.4 ms\n"
     ]
    }
   ],
   "source": [
    "ds.close()"
   ]
  },
  {
   "cell_type": "code",
   "execution_count": 4,
   "metadata": {},
   "outputs": [
    {
     "name": "stdout",
     "output_type": "stream",
     "text": [
      "time: 11.5 s\n"
     ]
    }
   ],
   "source": [
    "# Convert the xarray dataset to pandas dataframe\n",
    "df = ds.to_dataframe()\n",
    "df = df.reset_index()  # Removes MultiIndex\n",
    "df = df.drop(columns=['cvr', 'gb', 'gbanmeldt', 'journalnr', 'marknr', 'pass_mode', 'relative_orbit'])\n",
    "df = df.dropna()"
   ]
  },
  {
   "cell_type": "code",
   "execution_count": 5,
   "metadata": {},
   "outputs": [
    {
     "name": "stdout",
     "output_type": "stream",
     "text": [
      "--------------------------------------------------------------------------------------------------\n",
      "Dataset from 2018-07-01 to 2018-08-01\n",
      "Training time: 9.5625 s\n",
      "Prediction time: 0.0188 s\n",
      "\n",
      "Report:\n",
      "\n",
      "Train accuracy: 0.3795\n",
      "Test accuracy: 0.3878\n",
      "time: 11.6 s\n"
     ]
    },
    {
     "name": "stderr",
     "output_type": "stream",
     "text": [
      "/opt/conda/lib/python3.7/site-packages/sklearn/metrics/_classification.py:1272: UndefinedMetricWarning: Precision and F-score are ill-defined and being set to 0.0 in labels with no predicted samples. Use `zero_division` parameter to control this behavior.\n",
      "  _warn_prf(average, modifier, msg_start, len(result))\n"
     ]
    }
   ],
   "source": [
    "# Dicts to hold results\n",
    "test_acc_logistic_regression = {'2018-07-01': 0}\n",
    "classification_reports_logistic_regression = {}\n",
    "trained_classifiers_logistic_regression = {}\n",
    "\n",
    "year = 2018\n",
    "for i in range(7, 24, 1):\n",
    "    month = (i % 12) + 1\n",
    "    if month == 1:\n",
    "        year += 1\n",
    "        \n",
    "    end_date = f'{year}-{month:02}-01'\n",
    "        \n",
    "    print(f\"--------------------------------------------------------------------------------------------------\")\n",
    "    print(f\"Dataset from 2018-07-01 to {end_date}\")\n",
    "    df_sklearn = get_sklearn_df(polygons_year=2019, \n",
    "                                satellite_dates=slice('2018-07-01', f'{end_date}'), \n",
    "                                fields='all', \n",
    "                                satellite='all', \n",
    "                                polarization='all',\n",
    "                                crop_type='all',\n",
    "                                netcdf_path=netcdf_path)\n",
    "\n",
    "    #df_sklearn = df_sklearn[df_sklearn['afgroede'].isin(['Vårbyg', 'Vinterhvede', 'Silomajs', 'Vinterraps', \n",
    "    #                                                     'Vinterbyg', 'Vårhavre', 'Vinterhybridrug'])]\n",
    "    \n",
    "    df_sklearn_remapped = df_sklearn.copy()\n",
    "    df_sklearn_remapped.insert(3, 'Crop type', '')\n",
    "    df_sklearn_remapped.insert(4, 'Label ID', 0)\n",
    "    mapping_dict = {}\n",
    "    class_names = [] \n",
    "    i = 0\n",
    "    for key, value in mapping_dict_crop_types.items():\n",
    "        df_sklearn_remapped.loc[df_sklearn_remapped['afgroede'] == key, 'Crop type'] = value \n",
    "        if value not in class_names:\n",
    "            class_names.append(value)\n",
    "            mapping_dict[value] = i\n",
    "            i += 1\n",
    "\n",
    "    for key, value in mapping_dict.items():\n",
    "        df_sklearn_remapped.loc[df_sklearn_remapped['Crop type'] == key, 'Label ID'] = value \n",
    "    #print(f\"Crop types: {class_names}\")\n",
    "\n",
    "    # Get values as numpy array\n",
    "    array = df_sklearn_remapped.values\n",
    "\n",
    "    # Define the independent variables as features.\n",
    "    X = np.float32(array[:,5:])  # The features \n",
    "\n",
    "    # Define the target (dependent) variable as labels.\n",
    "    y = np.int8(array[:,4])  # The column 'afgkode'\n",
    "\n",
    "    # Create a train/test split using 30% test size.\n",
    "    X_train, X_test, y_train, y_test = train_test_split(X, y, test_size=0.3, random_state=RANDOM_SEED)\n",
    "\n",
    "    # Instantiate and evaluate classifier\n",
    "    from sklearn.linear_model import LogisticRegression          \n",
    "    clf = LogisticRegression(solver='lbfgs', multi_class='auto', n_jobs=32, max_iter=1000)\n",
    "    clf_trained, _, accuracy_test, results_report = evaluate_classifier(clf, X_train, X_test, y_train, y_test, class_names, \n",
    "                                                                        feature_scale=True, plot_confusion_matrix=False,\n",
    "                                                                        print_classification_report=False)\n",
    "    \n",
    "    test_acc_logistic_regression[end_date] = accuracy_test\n",
    "    classification_reports_logistic_regression[end_date] = results_report \n",
    "    trained_classifiers_logistic_regression[end_date] = clf_trained "
   ]
  },
  {
   "cell_type": "code",
   "execution_count": 6,
   "metadata": {},
   "outputs": [
    {
     "data": {
      "image/png": "[encoded data removed]",
      "text/plain": [
       "<Figure size 432x288 with 1 Axes>"
      ]
     },
     "metadata": {
      "needs_background": "light"
     },
     "output_type": "display_data"
    },
    {
     "name": "stdout",
     "output_type": "stream",
     "text": [
      "time: 148 ms\n"
     ]
    }
   ],
   "source": [
    "x = list(test_acc_logistic_regression.keys())\n",
    "y = list(test_acc_logistic_regression.values())\n",
    "ax = sns.lineplot(x=x, y=y, sort=False, lw=1)\n",
    "ax.set_ylabel('Test accuracy')\n",
    "ax.set_ylim(0, 1)\n",
    "for tick in ax.get_xticklabels():\n",
    "    tick.set_rotation(90)"
   ]
  },
  {
   "cell_type": "code",
   "execution_count": null,
   "metadata": {},
   "outputs": [],
   "source": [
    "#for date, report in classification_reports_logistic_regression.items():\n",
    "#    print(date)\n",
    "#    print(report)"
   ]
  },
  {
   "cell_type": "code",
   "execution_count": 7,
   "metadata": {},
   "outputs": [
    {
     "name": "stdout",
     "output_type": "stream",
     "text": [
      "--------------------------------------------------------------------------------------------------\n",
      "Dataset from 2018-07-01 to 2018-08-01\n",
      "Training time: 3.7775 s\n",
      "Prediction time: 0.0041 s\n",
      "\n",
      "Report:\n",
      "\n",
      "Train accuracy: 0.2899\n",
      "Test accuracy: 0.2939\n",
      "time: 5.76 s\n"
     ]
    }
   ],
   "source": [
    "# Dicts to hold results\n",
    "test_acc_logistic_regression_balanced = {'2018-07-01': 0}\n",
    "classification_reports_logistic_regression_balanced = {}\n",
    "trained_classifiers_logistic_regression_balanced = {}\n",
    "\n",
    "year = 2018\n",
    "for i in range(7, 24, 1):\n",
    "    month = (i % 12) + 1\n",
    "    if month == 1:\n",
    "        year += 1\n",
    "        \n",
    "    end_date = f'{year}-{month:02}-01'\n",
    "        \n",
    "    print(f\"--------------------------------------------------------------------------------------------------\")\n",
    "    print(f\"Dataset from 2018-07-01 to {end_date}\")\n",
    "    df_sklearn = get_sklearn_df(polygons_year=2019, \n",
    "                                satellite_dates=slice('2018-07-01', f'{end_date}'), \n",
    "                                fields='all', \n",
    "                                satellite='all', \n",
    "                                polarization='all',\n",
    "                                crop_type='all',\n",
    "                                netcdf_path=netcdf_path)\n",
    "\n",
    "    #df_sklearn = df_sklearn[df_sklearn['afgroede'].isin(['Vårbyg', 'Vinterhvede', 'Silomajs', 'Vinterraps', \n",
    "    #                                                     'Vinterbyg', 'Vårhavre', 'Vinterhybridrug'])]\n",
    "    \n",
    "    df_sklearn_remapped = df_sklearn.copy()\n",
    "    df_sklearn_remapped.insert(3, 'Crop type', '')\n",
    "    df_sklearn_remapped.insert(4, 'Label ID', 0)\n",
    "    mapping_dict = {}\n",
    "    class_names = [] \n",
    "    i = 0\n",
    "    for key, value in mapping_dict_crop_types.items():\n",
    "        df_sklearn_remapped.loc[df_sklearn_remapped['afgroede'] == key, 'Crop type'] = value \n",
    "        if value not in class_names:\n",
    "            class_names.append(value)\n",
    "            mapping_dict[value] = i\n",
    "            i += 1\n",
    "\n",
    "    for key, value in mapping_dict.items():\n",
    "        df_sklearn_remapped.loc[df_sklearn_remapped['Crop type'] == key, 'Label ID'] = value \n",
    "    #print(f\"Crop types: {class_names}\")\n",
    "\n",
    "    # Get values as numpy array\n",
    "    array = df_sklearn_remapped.values\n",
    "\n",
    "    # Define the independent variables as features.\n",
    "    X = np.float32(array[:,5:])  # The features \n",
    "\n",
    "    # Define the target (dependent) variable as labels.\n",
    "    y = np.int8(array[:,4])  # The column 'afgkode'\n",
    "\n",
    "    # Create a train/test split using 30% test size.\n",
    "    X_train, X_test, y_train, y_test = train_test_split(X, y, test_size=0.3, random_state=RANDOM_SEED)\n",
    "\n",
    "    # Instantiate and evaluate classifier\n",
    "    from sklearn.linear_model import LogisticRegression          \n",
    "    clf = LogisticRegression(solver='lbfgs', multi_class='auto', n_jobs=32, max_iter=1000, class_weight='balanced')\n",
    "    clf_trained, _, accuracy_test, results_report = evaluate_classifier(clf, X_train, X_test, y_train, y_test, class_names, \n",
    "                                                                        feature_scale=True, plot_confusion_matrix=False,\n",
    "                                                                        print_classification_report=False)\n",
    "    \n",
    "    test_acc_logistic_regression_balanced[end_date] = accuracy_test\n",
    "    classification_reports_logistic_regression_balanced[end_date] = results_report \n",
    "    trained_classifiers_logistic_regression_balanced[end_date] = clf_trained "
   ]
  },
  {
   "cell_type": "code",
   "execution_count": 8,
   "metadata": {},
   "outputs": [
    {
     "data": {
      "image/png": "[encoded data removed]",
      "text/plain": [
       "<Figure size 432x288 with 1 Axes>"
      ]
     },
     "metadata": {
      "needs_background": "light"
     },
     "output_type": "display_data"
    },
    {
     "name": "stdout",
     "output_type": "stream",
     "text": [
      "time: 131 ms\n"
     ]
    }
   ],
   "source": [
    "x = list(test_acc_logistic_regression_balanced.keys())\n",
    "y = list(test_acc_logistic_regression_balanced.values())\n",
    "ax = sns.lineplot(x=x, y=y, sort=False, lw=1)\n",
    "ax.set_ylabel('Test accuracy')\n",
    "ax.set_ylim(0, 1)\n",
    "for tick in ax.get_xticklabels():\n",
    "    tick.set_rotation(90)"
   ]
  },
  {
   "cell_type": "code",
   "execution_count": 9,
   "metadata": {},
   "outputs": [
    {
     "name": "stdout",
     "output_type": "stream",
     "text": [
      "time: 18.8 ms\n"
     ]
    }
   ],
   "source": [
    "#for date, report in classification_reports_logistic_regression.items():\n",
    "#    print(date)\n",
    "#    print(report)"
   ]
  },
  {
   "cell_type": "code",
   "execution_count": 10,
   "metadata": {},
   "outputs": [
    {
     "name": "stdout",
     "output_type": "stream",
     "text": [
      "--------------------------------------------------------------------------------------------------\n",
      "Dataset from 2018-07-01 to 2018-08-01\n",
      "Training time: 26.0841 s\n",
      "Prediction time: 0.0014 s\n",
      "\n",
      "Report:\n",
      "\n",
      "Train accuracy: 0.3795\n",
      "Test accuracy: 0.3881\n",
      "time: 28.2 s\n"
     ]
    },
    {
     "name": "stderr",
     "output_type": "stream",
     "text": [
      "/opt/conda/lib/python3.7/site-packages/sklearn/metrics/_classification.py:1272: UndefinedMetricWarning: Precision and F-score are ill-defined and being set to 0.0 in labels with no predicted samples. Use `zero_division` parameter to control this behavior.\n",
      "  _warn_prf(average, modifier, msg_start, len(result))\n"
     ]
    }
   ],
   "source": [
    "# Dicts to hold results\n",
    "test_acc_logistic_regression_cv = {'2018-07-01': 0}\n",
    "classification_reports_logistic_regression_cv = {}\n",
    "trained_classifiers_logistic_regression_cv = {}\n",
    "\n",
    "year = 2018\n",
    "for i in range(7, 24, 1):\n",
    "    month = (i % 12) + 1\n",
    "    if month == 1:\n",
    "        year += 1\n",
    "        \n",
    "    end_date = f'{year}-{month:02}-01'\n",
    "        \n",
    "    print(f\"--------------------------------------------------------------------------------------------------\")\n",
    "    print(f\"Dataset from 2018-07-01 to {end_date}\")\n",
    "    df_sklearn = get_sklearn_df(polygons_year=2019, \n",
    "                                satellite_dates=slice('2018-07-01', f'{end_date}'), \n",
    "                                fields='all', \n",
    "                                satellite='all', \n",
    "                                polarization='all',\n",
    "                                crop_type='all',\n",
    "                                netcdf_path=netcdf_path)\n",
    "\n",
    "    #df_sklearn = df_sklearn[df_sklearn['afgroede'].isin(['Vårbyg', 'Vinterhvede', 'Silomajs', 'Vinterraps', \n",
    "    #                                                     'Vinterbyg', 'Vårhavre', 'Vinterhybridrug'])]\n",
    "    \n",
    "    df_sklearn_remapped = df_sklearn.copy()\n",
    "    df_sklearn_remapped.insert(3, 'Crop type', '')\n",
    "    df_sklearn_remapped.insert(4, 'Label ID', 0)\n",
    "    mapping_dict = {}\n",
    "    class_names = [] \n",
    "    i = 0\n",
    "    for key, value in mapping_dict_crop_types.items():\n",
    "        df_sklearn_remapped.loc[df_sklearn_remapped['afgroede'] == key, 'Crop type'] = value \n",
    "        if value not in class_names:\n",
    "            class_names.append(value)\n",
    "            mapping_dict[value] = i\n",
    "            i += 1\n",
    "\n",
    "    for key, value in mapping_dict.items():\n",
    "        df_sklearn_remapped.loc[df_sklearn_remapped['Crop type'] == key, 'Label ID'] = value \n",
    "    #print(f\"Crop types: {class_names}\")\n",
    "\n",
    "    # Get values as numpy array\n",
    "    array = df_sklearn_remapped.values\n",
    "\n",
    "    # Define the independent variables as features.\n",
    "    X = np.float32(array[:,5:])  # The features \n",
    "\n",
    "    # Define the target (dependent) variable as labels.\n",
    "    y = np.int8(array[:,4])  # The column 'afgkode'\n",
    "\n",
    "    # Create a train/test split using 30% test size.\n",
    "    X_train, X_test, y_train, y_test = train_test_split(X, y, test_size=0.3, random_state=RANDOM_SEED)\n",
    "\n",
    "    # Instantiate and evaluate classifier\n",
    "    from sklearn.linear_model import LogisticRegressionCV          \n",
    "\n",
    "    # Instantiate and evaluate classifier\n",
    "    clf = LogisticRegressionCV(solver='lbfgs', multi_class='auto', cv=5, n_jobs=32, random_state=RANDOM_SEED, max_iter=1000)\n",
    "    clf_trained, _, accuracy_test, results_report = evaluate_classifier(clf, X_train, X_test, y_train, y_test, class_names, \n",
    "                                                                        feature_scale=True, plot_confusion_matrix=False,\n",
    "                                                                        print_classification_report=False)\n",
    "    \n",
    "    test_acc_logistic_regression_cv[end_date] = accuracy_test\n",
    "    classification_reports_logistic_regression_cv[end_date] = results_report \n",
    "    trained_classifiers_logistic_regression_cv[end_date] = clf_trained \n",
    "    "
   ]
  },
  {
   "cell_type": "code",
   "execution_count": 11,
   "metadata": {},
   "outputs": [
    {
     "data": {
      "image/png": "[encoded data removed]",
      "text/plain": [
       "<Figure size 432x288 with 1 Axes>"
      ]
     },
     "metadata": {
      "needs_background": "light"
     },
     "output_type": "display_data"
    },
    {
     "name": "stdout",
     "output_type": "stream",
     "text": [
      "time: 111 ms\n"
     ]
    }
   ],
   "source": [
    "x = list(test_acc_logistic_regression_cv.keys())\n",
    "y = list(test_acc_logistic_regression_cv.values())\n",
    "ax = sns.lineplot(x=x, y=y, sort=False, lw=1)\n",
    "ax.set_ylabel('Test accuracy')\n",
    "ax.set_ylim(0, 1)\n",
    "for tick in ax.get_xticklabels():\n",
    "    tick.set_rotation(90)"
   ]
  },
  {
   "cell_type": "code",
   "execution_count": null,
   "metadata": {},
   "outputs": [],
   "source": [
    "#for date, report in classification_reports_logistic_regression.items():\n",
    "#    print(date)\n",
    "#    print(report)"
   ]
  },
  {
   "cell_type": "code",
   "execution_count": 12,
   "metadata": {},
   "outputs": [
    {
     "name": "stdout",
     "output_type": "stream",
     "text": [
      "--------------------------------------------------------------------------------------------------\n",
      "Dataset from 2018-07-01 to 2018-08-01\n",
      "Training time: 16.845 s\n",
      "Prediction time: 0.0014 s\n",
      "\n",
      "Report:\n",
      "\n",
      "Train accuracy: 0.2906\n",
      "Test accuracy: 0.2931\n",
      "time: 18.8 s\n"
     ]
    }
   ],
   "source": [
    "# Dicts to hold results\n",
    "test_acc_logistic_regression_cv_balanced = {'2018-07-01': 0}\n",
    "classification_reports_logistic_regression_cv_balanced = {}\n",
    "trained_classifiers_logistic_regression_cv_balanced = {}\n",
    "\n",
    "year = 2018\n",
    "for i in range(7, 24, 1):\n",
    "    month = (i % 12) + 1\n",
    "    if month == 1:\n",
    "        year += 1\n",
    "        \n",
    "    end_date = f'{year}-{month:02}-01'\n",
    "        \n",
    "    print(f\"--------------------------------------------------------------------------------------------------\")\n",
    "    print(f\"Dataset from 2018-07-01 to {end_date}\")\n",
    "    df_sklearn = get_sklearn_df(polygons_year=2019, \n",
    "                                satellite_dates=slice('2018-07-01', f'{end_date}'), \n",
    "                                fields='all', \n",
    "                                satellite='all', \n",
    "                                polarization='all',\n",
    "                                crop_type='all',\n",
    "                                netcdf_path=netcdf_path)\n",
    "\n",
    "    #df_sklearn = df_sklearn[df_sklearn['afgroede'].isin(['Vårbyg', 'Vinterhvede', 'Silomajs', 'Vinterraps', \n",
    "    #                                                     'Vinterbyg', 'Vårhavre', 'Vinterhybridrug'])]\n",
    "    \n",
    "    df_sklearn_remapped = df_sklearn.copy()\n",
    "    df_sklearn_remapped.insert(3, 'Crop type', '')\n",
    "    df_sklearn_remapped.insert(4, 'Label ID', 0)\n",
    "    mapping_dict = {}\n",
    "    class_names = [] \n",
    "    i = 0\n",
    "    for key, value in mapping_dict_crop_types.items():\n",
    "        df_sklearn_remapped.loc[df_sklearn_remapped['afgroede'] == key, 'Crop type'] = value \n",
    "        if value not in class_names:\n",
    "            class_names.append(value)\n",
    "            mapping_dict[value] = i\n",
    "            i += 1\n",
    "\n",
    "    for key, value in mapping_dict.items():\n",
    "        df_sklearn_remapped.loc[df_sklearn_remapped['Crop type'] == key, 'Label ID'] = value \n",
    "    #print(f\"Crop types: {class_names}\")\n",
    "\n",
    "    # Get values as numpy array\n",
    "    array = df_sklearn_remapped.values\n",
    "\n",
    "    # Define the independent variables as features.\n",
    "    X = np.float32(array[:,5:])  # The features \n",
    "\n",
    "    # Define the target (dependent) variable as labels.\n",
    "    y = np.int8(array[:,4])  # The column 'afgkode'\n",
    "\n",
    "    # Create a train/test split using 30% test size.\n",
    "    X_train, X_test, y_train, y_test = train_test_split(X, y, test_size=0.3, random_state=RANDOM_SEED)\n",
    "\n",
    "    # Instantiate and evaluate classifier\n",
    "    from sklearn.linear_model import LogisticRegressionCV          \n",
    "\n",
    "    # Instantiate and evaluate classifier\n",
    "    clf = LogisticRegressionCV(solver='lbfgs', multi_class='auto', cv=5, n_jobs=32, random_state=RANDOM_SEED, max_iter=1000, \n",
    "                               class_weight='balanced')\n",
    "    clf_trained, _, accuracy_test, results_report = evaluate_classifier(clf, X_train, X_test, y_train, y_test, class_names, \n",
    "                                                                        feature_scale=True, plot_confusion_matrix=False,\n",
    "                                                                        print_classification_report=False)\n",
    "    \n",
    "    test_acc_logistic_regression_cv_balanced[end_date] = accuracy_test\n",
    "    classification_reports_logistic_regression_cv_balanced[end_date] = results_report \n",
    "    trained_classifiers_logistic_regression_cv_balanced[end_date] = clf_trained "
   ]
  },
  {
   "cell_type": "code",
   "execution_count": 13,
   "metadata": {},
   "outputs": [
    {
     "data": {
      "image/png": "[encoded data removed]",
      "text/plain": [
       "<Figure size 432x288 with 1 Axes>"
      ]
     },
     "metadata": {
      "needs_background": "light"
     },
     "output_type": "display_data"
    },
    {
     "name": "stdout",
     "output_type": "stream",
     "text": [
      "time: 117 ms\n"
     ]
    }
   ],
   "source": [
    "x = list(test_acc_logistic_regression_cv_balanced.keys())\n",
    "y = list(test_acc_logistic_regression_cv_balanced.values())\n",
    "ax = sns.lineplot(x=x, y=y, sort=False, lw=1)\n",
    "ax.set_ylabel('Test accuracy')\n",
    "ax.set_ylim(0, 1)\n",
    "for tick in ax.get_xticklabels():\n",
    "    tick.set_rotation(90)"
   ]
  },
  {
   "cell_type": "code",
   "execution_count": 14,
   "metadata": {},
   "outputs": [
    {
     "name": "stdout",
     "output_type": "stream",
     "text": [
      "time: 20 ms\n"
     ]
    }
   ],
   "source": [
    "#for date, report in classification_reports_logistic_regression.items():\n",
    "#    print(date)\n",
    "#    print(report)"
   ]
  },
  {
   "cell_type": "code",
   "execution_count": 17,
   "metadata": {},
   "outputs": [
    {
     "name": "stdout",
     "output_type": "stream",
     "text": [
      "--------------------------------------------------------------------------------------------------\n",
      "Dataset from 2018-07-01 to 2018-08-01\n",
      "Training time: 90.4949 s\n",
      "Prediction time: 11.3053 s\n",
      "\n",
      "Report:\n",
      "\n",
      "Train accuracy: 0.3557\n",
      "Test accuracy: 0.3597\n",
      "time: 2min 21s\n"
     ]
    },
    {
     "name": "stderr",
     "output_type": "stream",
     "text": [
      "/opt/conda/lib/python3.7/site-packages/sklearn/metrics/_classification.py:1272: UndefinedMetricWarning: Precision and F-score are ill-defined and being set to 0.0 in labels with no predicted samples. Use `zero_division` parameter to control this behavior.\n",
      "  _warn_prf(average, modifier, msg_start, len(result))\n"
     ]
    }
   ],
   "source": [
    "# Dicts to hold results\n",
    "test_acc_svm_linear = {'2018-07-01': 0}\n",
    "classification_reports_svm_linear = {}\n",
    "trained_classifiers_svm_linear = {}\n",
    "\n",
    "year = 2018\n",
    "for i in range(7, 24, 1):\n",
    "    month = (i % 12) + 1\n",
    "    if month == 1:\n",
    "        year += 1\n",
    "        \n",
    "    end_date = f'{year}-{month:02}-01'\n",
    "        \n",
    "    print(f\"--------------------------------------------------------------------------------------------------\")\n",
    "    print(f\"Dataset from 2018-07-01 to {end_date}\")\n",
    "    df_sklearn = get_sklearn_df(polygons_year=2019, \n",
    "                                satellite_dates=slice('2018-07-01', f'{end_date}'), \n",
    "                                fields='all', \n",
    "                                satellite='all', \n",
    "                                polarization='all',\n",
    "                                crop_type='all',\n",
    "                                netcdf_path=netcdf_path)\n",
    "\n",
    "    #df_sklearn = df_sklearn[df_sklearn['afgroede'].isin(['Vårbyg', 'Vinterhvede', 'Silomajs', 'Vinterraps', \n",
    "    #                                                     'Vinterbyg', 'Vårhavre', 'Vinterhybridrug'])]\n",
    "    \n",
    "    df_sklearn_remapped = df_sklearn.copy()\n",
    "    df_sklearn_remapped.insert(3, 'Crop type', '')\n",
    "    df_sklearn_remapped.insert(4, 'Label ID', 0)\n",
    "    mapping_dict = {}\n",
    "    class_names = [] \n",
    "    i = 0\n",
    "    for key, value in mapping_dict_crop_types.items():\n",
    "        df_sklearn_remapped.loc[df_sklearn_remapped['afgroede'] == key, 'Crop type'] = value \n",
    "        if value not in class_names:\n",
    "            class_names.append(value)\n",
    "            mapping_dict[value] = i\n",
    "            i += 1\n",
    "\n",
    "    for key, value in mapping_dict.items():\n",
    "        df_sklearn_remapped.loc[df_sklearn_remapped['Crop type'] == key, 'Label ID'] = value \n",
    "    #print(f\"Crop types: {class_names}\")\n",
    "\n",
    "    # Get values as numpy array\n",
    "    array = df_sklearn_remapped.values\n",
    "\n",
    "    # Define the independent variables as features.\n",
    "    X = np.float32(array[:,5:])  # The features \n",
    "\n",
    "    # Define the target (dependent) variable as labels.\n",
    "    y = np.int8(array[:,4])  # The column 'afgkode'\n",
    "\n",
    "    # Create a train/test split using 30% test size.\n",
    "    X_train, X_test, y_train, y_test = train_test_split(X, y, test_size=0.3, random_state=RANDOM_SEED)\n",
    "\n",
    "    # Instantiate and evaluate classifier\n",
    "    from sklearn.svm import SVC   \n",
    "    from sklearn.model_selection import GridSearchCV\n",
    "\n",
    "    # Instantiate and evaluate classifier\n",
    "    param_grid = {'C': [1, 10, 100], 'gamma': [0.0001, 0.001, 0.01, 0.1], 'kernel': ['linear']}\n",
    "    #clf = GridSearchCV(SVC(), param_grid, refit=True, cv=5, verbose=0, n_jobs=32)\n",
    "    clf = SVC(kernel='linear')\n",
    "    clf_trained, _, accuracy_test, results_report = evaluate_classifier(clf, X_train, X_test, y_train, y_test, class_names, \n",
    "                                                                        feature_scale=True, plot_confusion_matrix=False,\n",
    "                                                                        print_classification_report=False)\n",
    "    \n",
    "    test_acc_svm_linear[end_date] = accuracy_test\n",
    "    classification_reports_svm_linear[end_date] = results_report \n",
    "    trained_classifiers_svm_linear[end_date] = clf_trained "
   ]
  },
  {
   "cell_type": "code",
   "execution_count": 18,
   "metadata": {},
   "outputs": [
    {
     "data": {
      "image/png": "[encoded data removed]",
      "text/plain": [
       "<Figure size 432x288 with 1 Axes>"
      ]
     },
     "metadata": {
      "needs_background": "light"
     },
     "output_type": "display_data"
    },
    {
     "name": "stdout",
     "output_type": "stream",
     "text": [
      "time: 127 ms\n"
     ]
    }
   ],
   "source": [
    "x = list(test_acc_svm_linear.keys())\n",
    "y = list(test_acc_svm_linear.values())\n",
    "ax = sns.lineplot(x=x, y=y, sort=False, lw=1)\n",
    "ax.set_ylabel('Test accuracy')\n",
    "ax.set_ylim(0, 1)\n",
    "for tick in ax.get_xticklabels():\n",
    "    tick.set_rotation(90)"
   ]
  },
  {
   "cell_type": "code",
   "execution_count": 19,
   "metadata": {},
   "outputs": [
    {
     "name": "stdout",
     "output_type": "stream",
     "text": [
      "time: 16.8 ms\n"
     ]
    }
   ],
   "source": [
    "#for date, report in classification_reports_logistic_regression.items():\n",
    "#    print(date)\n",
    "#    print(report)"
   ]
  },
  {
   "cell_type": "code",
   "execution_count": 20,
   "metadata": {},
   "outputs": [
    {
     "name": "stdout",
     "output_type": "stream",
     "text": [
      "--------------------------------------------------------------------------------------------------\n",
      "Dataset from 2018-07-01 to 2018-08-01\n",
      "Training time: 105.6457 s\n",
      "Prediction time: 11.0251 s\n",
      "\n",
      "Report:\n",
      "\n",
      "Train accuracy: 0.2998\n",
      "Test accuracy: 0.3028\n",
      "time: 2min 35s\n"
     ]
    }
   ],
   "source": [
    "# Dicts to hold results\n",
    "test_acc_svm_linear_balanced = {'2018-07-01': 0}\n",
    "classification_reports_svm_linear_balanced = {}\n",
    "trained_classifiers_svm_linear_balanced = {}\n",
    "\n",
    "year = 2018\n",
    "for i in range(7, 24, 1):\n",
    "    month = (i % 12) + 1\n",
    "    if month == 1:\n",
    "        year += 1\n",
    "        \n",
    "    end_date = f'{year}-{month:02}-01'\n",
    "        \n",
    "    print(f\"--------------------------------------------------------------------------------------------------\")\n",
    "    print(f\"Dataset from 2018-07-01 to {end_date}\")\n",
    "    df_sklearn = get_sklearn_df(polygons_year=2019, \n",
    "                                satellite_dates=slice('2018-07-01', f'{end_date}'), \n",
    "                                fields='all', \n",
    "                                satellite='all', \n",
    "                                polarization='all',\n",
    "                                crop_type='all',\n",
    "                                netcdf_path=netcdf_path)\n",
    "\n",
    "    #df_sklearn = df_sklearn[df_sklearn['afgroede'].isin(['Vårbyg', 'Vinterhvede', 'Silomajs', 'Vinterraps', \n",
    "    #                                                     'Vinterbyg', 'Vårhavre', 'Vinterhybridrug'])]\n",
    "    \n",
    "    df_sklearn_remapped = df_sklearn.copy()\n",
    "    df_sklearn_remapped.insert(3, 'Crop type', '')\n",
    "    df_sklearn_remapped.insert(4, 'Label ID', 0)\n",
    "    mapping_dict = {}\n",
    "    class_names = [] \n",
    "    i = 0\n",
    "    for key, value in mapping_dict_crop_types.items():\n",
    "        df_sklearn_remapped.loc[df_sklearn_remapped['afgroede'] == key, 'Crop type'] = value \n",
    "        if value not in class_names:\n",
    "            class_names.append(value)\n",
    "            mapping_dict[value] = i\n",
    "            i += 1\n",
    "\n",
    "    for key, value in mapping_dict.items():\n",
    "        df_sklearn_remapped.loc[df_sklearn_remapped['Crop type'] == key, 'Label ID'] = value \n",
    "    #print(f\"Crop types: {class_names}\")\n",
    "\n",
    "    # Get values as numpy array\n",
    "    array = df_sklearn_remapped.values\n",
    "\n",
    "    # Define the independent variables as features.\n",
    "    X = np.float32(array[:,5:])  # The features \n",
    "\n",
    "    # Define the target (dependent) variable as labels.\n",
    "    y = np.int8(array[:,4])  # The column 'afgkode'\n",
    "\n",
    "    # Create a train/test split using 30% test size.\n",
    "    X_train, X_test, y_train, y_test = train_test_split(X, y, test_size=0.3, random_state=RANDOM_SEED)\n",
    "\n",
    "    # Instantiate and evaluate classifier\n",
    "    from sklearn.svm import SVC   \n",
    "    from sklearn.model_selection import GridSearchCV\n",
    "\n",
    "    # Instantiate and evaluate classifier\n",
    "    param_grid = {'C': [1, 10, 100], 'gamma': [0.0001, 0.001, 0.01, 0.1], 'kernel': ['linear']}\n",
    "    #clf = GridSearchCV(SVC(class_weight='balanced'), param_grid, refit=True, cv=5, verbose=0, n_jobs=32)\n",
    "    clf = SVC(kernel='linear', class_weight='balanced')\n",
    "    clf_trained, _, accuracy_test, results_report = evaluate_classifier(clf, X_train, X_test, y_train, y_test, class_names, \n",
    "                                                                        feature_scale=True, plot_confusion_matrix=False,\n",
    "                                                                        print_classification_report=False)\n",
    "    \n",
    "    test_acc_svm_linear_balanced[end_date] = accuracy_test\n",
    "    classification_reports_svm_linear_balanced[end_date] = results_report \n",
    "    trained_classifiers_svm_linear_balanced[end_date] = clf_trained "
   ]
  },
  {
   "cell_type": "code",
   "execution_count": 21,
   "metadata": {},
   "outputs": [
    {
     "data": {
      "image/png": "[encoded data removed]",
      "text/plain": [
       "<Figure size 432x288 with 1 Axes>"
      ]
     },
     "metadata": {
      "needs_background": "light"
     },
     "output_type": "display_data"
    },
    {
     "name": "stdout",
     "output_type": "stream",
     "text": [
      "time: 128 ms\n"
     ]
    }
   ],
   "source": [
    "x = list(test_acc_svm_linear_balanced.keys())\n",
    "y = list(test_acc_svm_linear_balanced.values())\n",
    "ax = sns.lineplot(x=x, y=y, sort=False, lw=1)\n",
    "ax.set_ylabel('Test accuracy')\n",
    "ax.set_ylim(0, 1)\n",
    "for tick in ax.get_xticklabels():\n",
    "    tick.set_rotation(90)"
   ]
  },
  {
   "cell_type": "code",
   "execution_count": 22,
   "metadata": {},
   "outputs": [
    {
     "name": "stdout",
     "output_type": "stream",
     "text": [
      "time: 18.3 ms\n"
     ]
    }
   ],
   "source": [
    "#for date, report in classification_reports_logistic_regression.items():\n",
    "#    print(date)\n",
    "#    print(report)"
   ]
  },
  {
   "cell_type": "code",
   "execution_count": 23,
   "metadata": {},
   "outputs": [
    {
     "name": "stdout",
     "output_type": "stream",
     "text": [
      "--------------------------------------------------------------------------------------------------\n",
      "Dataset from 2018-07-01 to 2018-08-01\n",
      "Training time: 87.6069 s\n",
      "Prediction time: 19.6972 s\n",
      "\n",
      "Report:\n",
      "\n",
      "Train accuracy: 0.427\n",
      "Test accuracy: 0.424\n",
      "time: 2min 54s\n"
     ]
    },
    {
     "name": "stderr",
     "output_type": "stream",
     "text": [
      "/opt/conda/lib/python3.7/site-packages/sklearn/metrics/_classification.py:1272: UndefinedMetricWarning: Precision and F-score are ill-defined and being set to 0.0 in labels with no predicted samples. Use `zero_division` parameter to control this behavior.\n",
      "  _warn_prf(average, modifier, msg_start, len(result))\n"
     ]
    }
   ],
   "source": [
    "# Dicts to hold results\n",
    "test_acc_svm_rbf = {'2018-07-01': 0}\n",
    "classification_reports_svm_rbf = {}\n",
    "trained_classifiers_svm_rbf = {}\n",
    "\n",
    "year = 2018\n",
    "for i in range(7, 24, 1):\n",
    "    month = (i % 12) + 1\n",
    "    if month == 1:\n",
    "        year += 1\n",
    "        \n",
    "    end_date = f'{year}-{month:02}-01'\n",
    "        \n",
    "    print(f\"--------------------------------------------------------------------------------------------------\")\n",
    "    print(f\"Dataset from 2018-07-01 to {end_date}\")\n",
    "    df_sklearn = get_sklearn_df(polygons_year=2019, \n",
    "                                satellite_dates=slice('2018-07-01', f'{end_date}'), \n",
    "                                fields='all', \n",
    "                                satellite='all', \n",
    "                                polarization='all',\n",
    "                                crop_type='all',\n",
    "                                netcdf_path=netcdf_path)\n",
    "\n",
    "    #df_sklearn = df_sklearn[df_sklearn['afgroede'].isin(['Vårbyg', 'Vinterhvede', 'Silomajs', 'Vinterraps', \n",
    "    #                                                     'Vinterbyg', 'Vårhavre', 'Vinterhybridrug'])]\n",
    "    \n",
    "    df_sklearn_remapped = df_sklearn.copy()\n",
    "    df_sklearn_remapped.insert(3, 'Crop type', '')\n",
    "    df_sklearn_remapped.insert(4, 'Label ID', 0)\n",
    "    mapping_dict = {}\n",
    "    class_names = [] \n",
    "    i = 0\n",
    "    for key, value in mapping_dict_crop_types.items():\n",
    "        df_sklearn_remapped.loc[df_sklearn_remapped['afgroede'] == key, 'Crop type'] = value \n",
    "        if value not in class_names:\n",
    "            class_names.append(value)\n",
    "            mapping_dict[value] = i\n",
    "            i += 1\n",
    "\n",
    "    for key, value in mapping_dict.items():\n",
    "        df_sklearn_remapped.loc[df_sklearn_remapped['Crop type'] == key, 'Label ID'] = value \n",
    "    #print(f\"Crop types: {class_names}\")\n",
    "\n",
    "    # Get values as numpy array\n",
    "    array = df_sklearn_remapped.values\n",
    "\n",
    "    # Define the independent variables as features.\n",
    "    X = np.float32(array[:,5:])  # The features \n",
    "\n",
    "    # Define the target (dependent) variable as labels.\n",
    "    y = np.int8(array[:,4])  # The column 'afgkode'\n",
    "\n",
    "    # Create a train/test split using 30% test size.\n",
    "    X_train, X_test, y_train, y_test = train_test_split(X, y, test_size=0.3, random_state=RANDOM_SEED)\n",
    "\n",
    "    # Instantiate and evaluate classifier\n",
    "    from sklearn.svm import SVC   \n",
    "    from sklearn.model_selection import GridSearchCV\n",
    "\n",
    "    # Instantiate and evaluate classifier\n",
    "    param_grid = {'C': [1, 10, 100], 'gamma': [0.0001, 0.001, 0.01, 0.1], 'kernel': ['rbf']}\n",
    "    #clf = GridSearchCV(SVC(), param_grid, refit=True, cv=5, verbose=0, n_jobs=32)\n",
    "    clf = SVC(kernel='rbf')\n",
    "    clf_trained, _, accuracy_test, results_report = evaluate_classifier(clf, X_train, X_test, y_train, y_test, class_names, \n",
    "                                                                        feature_scale=True, plot_confusion_matrix=False,\n",
    "                                                                        print_classification_report=False)\n",
    "    \n",
    "    test_acc_svm_rbf[end_date] = accuracy_test\n",
    "    classification_reports_svm_rbf[end_date] = results_report \n",
    "    trained_classifiers_svm_rbf[end_date] = clf_trained "
   ]
  },
  {
   "cell_type": "code",
   "execution_count": 24,
   "metadata": {},
   "outputs": [
    {
     "data": {
      "image/png": "[encoded data removed]",
      "text/plain": [
       "<Figure size 432x288 with 1 Axes>"
      ]
     },
     "metadata": {
      "needs_background": "light"
     },
     "output_type": "display_data"
    },
    {
     "name": "stdout",
     "output_type": "stream",
     "text": [
      "time: 112 ms\n"
     ]
    }
   ],
   "source": [
    "x = list(test_acc_svm_rbf.keys())\n",
    "y = list(test_acc_svm_rbf.values())\n",
    "ax = sns.lineplot(x=x, y=y, sort=False, lw=1)\n",
    "ax.set_ylabel('Test accuracy')\n",
    "ax.set_ylim(0, 1)\n",
    "for tick in ax.get_xticklabels():\n",
    "    tick.set_rotation(90)"
   ]
  },
  {
   "cell_type": "code",
   "execution_count": 25,
   "metadata": {},
   "outputs": [
    {
     "name": "stdout",
     "output_type": "stream",
     "text": [
      "time: 18.8 ms\n"
     ]
    }
   ],
   "source": [
    "#for date, report in classification_reports_logistic_regression.items():\n",
    "#    print(date)\n",
    "#    print(report)"
   ]
  },
  {
   "cell_type": "code",
   "execution_count": 26,
   "metadata": {},
   "outputs": [
    {
     "name": "stdout",
     "output_type": "stream",
     "text": [
      "--------------------------------------------------------------------------------------------------\n",
      "Dataset from 2018-07-01 to 2018-08-01\n",
      "Training time: 105.2539 s\n",
      "Prediction time: 18.9506 s\n",
      "\n",
      "Report:\n",
      "\n",
      "Train accuracy: 0.3447\n",
      "Test accuracy: 0.336\n",
      "time: 3min 8s\n"
     ]
    }
   ],
   "source": [
    "# Dicts to hold results\n",
    "test_acc_svm_rbf_balanced = {'2018-07-01': 0}\n",
    "classification_reports_svm_rbf_balanced = {}\n",
    "trained_classifiers_svm_rbf_balanced = {}\n",
    "\n",
    "year = 2018\n",
    "for i in range(7, 24, 1):\n",
    "    month = (i % 12) + 1\n",
    "    if month == 1:\n",
    "        year += 1\n",
    "        \n",
    "    end_date = f'{year}-{month:02}-01'\n",
    "        \n",
    "    print(f\"--------------------------------------------------------------------------------------------------\")\n",
    "    print(f\"Dataset from 2018-07-01 to {end_date}\")\n",
    "    df_sklearn = get_sklearn_df(polygons_year=2019, \n",
    "                                satellite_dates=slice('2018-07-01', f'{end_date}'), \n",
    "                                fields='all', \n",
    "                                satellite='all', \n",
    "                                polarization='all',\n",
    "                                crop_type='all',\n",
    "                                netcdf_path=netcdf_path)\n",
    "\n",
    "    #df_sklearn = df_sklearn[df_sklearn['afgroede'].isin(['Vårbyg', 'Vinterhvede', 'Silomajs', 'Vinterraps', \n",
    "    #                                                     'Vinterbyg', 'Vårhavre', 'Vinterhybridrug'])]\n",
    "    \n",
    "    df_sklearn_remapped = df_sklearn.copy()\n",
    "    df_sklearn_remapped.insert(3, 'Crop type', '')\n",
    "    df_sklearn_remapped.insert(4, 'Label ID', 0)\n",
    "    mapping_dict = {}\n",
    "    class_names = [] \n",
    "    i = 0\n",
    "    for key, value in mapping_dict_crop_types.items():\n",
    "        df_sklearn_remapped.loc[df_sklearn_remapped['afgroede'] == key, 'Crop type'] = value \n",
    "        if value not in class_names:\n",
    "            class_names.append(value)\n",
    "            mapping_dict[value] = i\n",
    "            i += 1\n",
    "\n",
    "    for key, value in mapping_dict.items():\n",
    "        df_sklearn_remapped.loc[df_sklearn_remapped['Crop type'] == key, 'Label ID'] = value \n",
    "    #print(f\"Crop types: {class_names}\")\n",
    "\n",
    "    # Get values as numpy array\n",
    "    array = df_sklearn_remapped.values\n",
    "\n",
    "    # Define the independent variables as features.\n",
    "    X = np.float32(array[:,5:])  # The features \n",
    "\n",
    "    # Define the target (dependent) variable as labels.\n",
    "    y = np.int8(array[:,4])  # The column 'afgkode'\n",
    "\n",
    "    # Create a train/test split using 30% test size.\n",
    "    X_train, X_test, y_train, y_test = train_test_split(X, y, test_size=0.3, random_state=RANDOM_SEED)\n",
    "\n",
    "    # Instantiate and evaluate classifier\n",
    "    from sklearn.svm import SVC   \n",
    "    from sklearn.model_selection import GridSearchCV\n",
    "\n",
    "    # Instantiate and evaluate classifier\n",
    "    param_grid = {'C': [1, 10, 100], 'gamma': [0.0001, 0.001, 0.01, 0.1], 'kernel': ['rbf']}\n",
    "    #clf = GridSearchCV(SVC(class_weight='balanced'), param_grid, refit=True, cv=5, verbose=0, n_jobs=32)\n",
    "    clf = SVC(kernel='rbf', class_weight='balanced')\n",
    "    clf_trained, _, accuracy_test, results_report = evaluate_classifier(clf, X_train, X_test, y_train, y_test, class_names, \n",
    "                                                                        feature_scale=True, plot_confusion_matrix=False,\n",
    "                                                                        print_classification_report=False)\n",
    "    \n",
    "    test_acc_svm_rbf_balanced[end_date] = accuracy_test\n",
    "    classification_reports_svm_rbf_balanced[end_date] = results_report \n",
    "    trained_classifiers_svm_rbf_balanced[end_date] = clf_trained "
   ]
  },
  {
   "cell_type": "code",
   "execution_count": 27,
   "metadata": {},
   "outputs": [
    {
     "data": {
      "image/png": "[encoded data removed]",
      "text/plain": [
       "<Figure size 432x288 with 1 Axes>"
      ]
     },
     "metadata": {
      "needs_background": "light"
     },
     "output_type": "display_data"
    },
    {
     "name": "stdout",
     "output_type": "stream",
     "text": [
      "time: 133 ms\n"
     ]
    }
   ],
   "source": [
    "x = list(test_acc_svm_rbf_balanced.keys())\n",
    "y = list(test_acc_svm_rbf_balanced.values())\n",
    "ax = sns.lineplot(x=x, y=y, sort=False, lw=1)\n",
    "ax.set_ylabel('Test accuracy')\n",
    "ax.set_ylim(0, 1)\n",
    "for tick in ax.get_xticklabels():\n",
    "    tick.set_rotation(90)"
   ]
  },
  {
   "cell_type": "code",
   "execution_count": null,
   "metadata": {},
   "outputs": [],
   "source": [
    "#for date, report in classification_reports_logistic_regression.items():\n",
    "#    print(date)\n",
    "#    print(report)"
   ]
  },
  {
   "cell_type": "code",
   "execution_count": null,
   "metadata": {},
   "outputs": [],
   "source": []
  }
 ],
 "metadata": {
  "jupytext": {
   "notebook_metadata_filter": "-all"
  },
  "kernelspec": {
   "display_name": "Python 3",
   "language": "python",
   "name": "python3"
  },
  "language_info": {
   "codemirror_mode": {
    "name": "ipython",
    "version": 3
   },
   "file_extension": ".py",
   "mimetype": "text/x-python",
   "name": "python",
   "nbconvert_exporter": "python",
   "pygments_lexer": "ipython3",
   "version": "3.7.6"
  }
 },
 "nbformat": 4,
 "nbformat_minor": 4
}
